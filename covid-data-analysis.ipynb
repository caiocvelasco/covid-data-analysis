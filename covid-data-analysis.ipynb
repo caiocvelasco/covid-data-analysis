{
 "cells": [
  {
   "cell_type": "markdown",
   "metadata": {},
   "source": [
    "# Covid Data Analysis"
   ]
  },
  {
   "cell_type": "markdown",
   "metadata": {},
   "source": [
    "## Contents\n",
    "\n",
    "* About\n",
    "    * Project Development\n",
    "    * Problem Definition\n",
    "    * Objective\n",
    "* Data\n",
    "    * Libraries\n",
    "    * Importing\n",
    "    * Variables\n",
    "    * Important Definitions\n",
    "* Exploratory Data Analysis (EDA)\n",
    "    * Plotting Objectives\n",
    "    * Functions\n",
    "    * Shape and Size\n",
    "    * Types\n",
    "    * Missing Values\n",
    "    * Numeric\n",
    "        * Numeric Variables (both Continuous and Discrete)\n",
    "            * Summary statistics\n",
    "            * Probability Distribution\n",
    "            * Outliers Detection and Treatment & Inconsistencies\n",
    "* Questions"
   ]
  },
  {
   "cell_type": "markdown",
   "metadata": {},
   "source": [
    "## About\n",
    "\n",
    "### Project Development\n",
    "This project was developed locally with Visual Studio Code and GitHub version control.\n",
    "\n",
    "Please check this project @ [GitHub page](https://caiocvelasco.github.io/) or @ [GitHub Repository - Cardio Data Analysis](https://github.com/caiocvelasco/health-data-analysis/blob/a4fafbcd8148a6d501f42a10ae9d313fc3b268e1/cardio-data-analysis-project.ipynb).\n",
    "\n",
    "### Problem Definition\n",
    "\n",
    "A client would like to understand some important patients' covid-related descriptive statistics.\n",
    "\n",
    "### Objective\n",
    "Our goal is to calculate some descriptive statistics."
   ]
  },
  {
   "cell_type": "markdown",
   "metadata": {},
   "source": [
    "## Data\n",
    "Data was already available on a _csv_ format.\n",
    "\n",
    "### Libraries"
   ]
  },
  {
   "cell_type": "code",
   "execution_count": 127,
   "metadata": {},
   "outputs": [],
   "source": [
    "# !pip install seaborn pandas matplotlib numpy\n",
    "import pandas as pd              # for data analysis\n",
    "import numpy as np               # for scientific computing\n",
    "import scipy                     # for scientific computing\n",
    "import scipy.stats as stats      # for scientific computing\n",
    "\n",
    "import os                        # for file interactions in the user's operating system\n",
    "import warnings                  # for dealing with warning messages if need be\n",
    "warnings.filterwarnings('ignore')\n",
    "\n",
    "import matplotlib.pyplot as plt  # for data visualization\n",
    "import seaborn as sns            # for data visualization"
   ]
  },
  {
   "cell_type": "markdown",
   "metadata": {},
   "source": [
    "### Importing"
   ]
  },
  {
   "cell_type": "code",
   "execution_count": 128,
   "metadata": {},
   "outputs": [
    {
     "data": {
      "text/html": [
       "<div>\n",
       "<style scoped>\n",
       "    .dataframe tbody tr th:only-of-type {\n",
       "        vertical-align: middle;\n",
       "    }\n",
       "\n",
       "    .dataframe tbody tr th {\n",
       "        vertical-align: top;\n",
       "    }\n",
       "\n",
       "    .dataframe thead th {\n",
       "        text-align: right;\n",
       "    }\n",
       "</style>\n",
       "<table border=\"1\" class=\"dataframe\">\n",
       "  <thead>\n",
       "    <tr style=\"text-align: right;\">\n",
       "      <th></th>\n",
       "      <th>0</th>\n",
       "      <th>1</th>\n",
       "      <th>2</th>\n",
       "      <th>3</th>\n",
       "      <th>4</th>\n",
       "    </tr>\n",
       "  </thead>\n",
       "  <tbody>\n",
       "    <tr>\n",
       "      <th>location</th>\n",
       "      <td>Afghanistan</td>\n",
       "      <td>Afghanistan</td>\n",
       "      <td>Afghanistan</td>\n",
       "      <td>Afghanistan</td>\n",
       "      <td>Afghanistan</td>\n",
       "    </tr>\n",
       "    <tr>\n",
       "      <th>date</th>\n",
       "      <td>2019-12-31 00:00:00</td>\n",
       "      <td>2020-01-01 00:00:00</td>\n",
       "      <td>2020-01-02 00:00:00</td>\n",
       "      <td>2020-01-03 00:00:00</td>\n",
       "      <td>2020-01-04 00:00:00</td>\n",
       "    </tr>\n",
       "    <tr>\n",
       "      <th>new_cases</th>\n",
       "      <td>0</td>\n",
       "      <td>0</td>\n",
       "      <td>0</td>\n",
       "      <td>0</td>\n",
       "      <td>0</td>\n",
       "    </tr>\n",
       "    <tr>\n",
       "      <th>new_deaths</th>\n",
       "      <td>0</td>\n",
       "      <td>0</td>\n",
       "      <td>0</td>\n",
       "      <td>0</td>\n",
       "      <td>0</td>\n",
       "    </tr>\n",
       "    <tr>\n",
       "      <th>population</th>\n",
       "      <td>38928341.0</td>\n",
       "      <td>38928341.0</td>\n",
       "      <td>38928341.0</td>\n",
       "      <td>38928341.0</td>\n",
       "      <td>38928341.0</td>\n",
       "    </tr>\n",
       "    <tr>\n",
       "      <th>aged_65_older_percent</th>\n",
       "      <td>2.581</td>\n",
       "      <td>2.581</td>\n",
       "      <td>2.581</td>\n",
       "      <td>2.581</td>\n",
       "      <td>2.581</td>\n",
       "    </tr>\n",
       "    <tr>\n",
       "      <th>gdp_per_capita</th>\n",
       "      <td>1803.987</td>\n",
       "      <td>1803.987</td>\n",
       "      <td>1803.987</td>\n",
       "      <td>1803.987</td>\n",
       "      <td>1803.987</td>\n",
       "    </tr>\n",
       "    <tr>\n",
       "      <th>hospital_beds_per_thousand</th>\n",
       "      <td>0.5</td>\n",
       "      <td>0.5</td>\n",
       "      <td>0.5</td>\n",
       "      <td>0.5</td>\n",
       "      <td>0.5</td>\n",
       "    </tr>\n",
       "  </tbody>\n",
       "</table>\n",
       "</div>"
      ],
      "text/plain": [
       "                                              0                    1  \\\n",
       "location                            Afghanistan          Afghanistan   \n",
       "date                        2019-12-31 00:00:00  2020-01-01 00:00:00   \n",
       "new_cases                                     0                    0   \n",
       "new_deaths                                    0                    0   \n",
       "population                           38928341.0           38928341.0   \n",
       "aged_65_older_percent                     2.581                2.581   \n",
       "gdp_per_capita                         1803.987             1803.987   \n",
       "hospital_beds_per_thousand                  0.5                  0.5   \n",
       "\n",
       "                                              2                    3  \\\n",
       "location                            Afghanistan          Afghanistan   \n",
       "date                        2020-01-02 00:00:00  2020-01-03 00:00:00   \n",
       "new_cases                                     0                    0   \n",
       "new_deaths                                    0                    0   \n",
       "population                           38928341.0           38928341.0   \n",
       "aged_65_older_percent                     2.581                2.581   \n",
       "gdp_per_capita                         1803.987             1803.987   \n",
       "hospital_beds_per_thousand                  0.5                  0.5   \n",
       "\n",
       "                                              4  \n",
       "location                            Afghanistan  \n",
       "date                        2020-01-04 00:00:00  \n",
       "new_cases                                     0  \n",
       "new_deaths                                    0  \n",
       "population                           38928341.0  \n",
       "aged_65_older_percent                     2.581  \n",
       "gdp_per_capita                         1803.987  \n",
       "hospital_beds_per_thousand                  0.5  "
      ]
     },
     "execution_count": 128,
     "metadata": {},
     "output_type": "execute_result"
    }
   ],
   "source": [
    "# Basic Settings\n",
    "csv_folder_name = \"health_dataset\"  # please, change the folder name (where the CSV files are stored) if need be\n",
    "notebook_location = \"C:\\\\Users\\\\caiov\\\\OneDrive - UCLA IT Services\\\\Documentos\\\\DataScience\\\\Datasets\" # set the location where this notebook is saved\n",
    "csv_folder_path = notebook_location + \"\\\\\" + csv_folder_name  # set path for the CSV files\n",
    "os.chdir(csv_folder_path)                                     # set location of CSV files\n",
    "\n",
    "# Save CVSs Data on a Pandas Dataframe and Parse Date Column\n",
    "df_covid_data = pd.read_csv(\"covid_data.csv\", sep = \",\", skipinitialspace = True, parse_dates = [\"date\"]) #skip space after delimiter if need be\n",
    "\n",
    "# Save a Copy of the Dataframe\n",
    "data     = df_covid_data.copy()\n",
    "\n",
    "# Dataset Manipulation\n",
    "data.name = \"Covid Dataset\" # rename the dataset\n",
    "cols      = data.columns;              # create an index list with feature names\n",
    "\n",
    "# Quick Overview of a Sample from the Data\n",
    "pd.set_option('display.max_columns', None) # changing the max_columns value\n",
    "data.head().T"
   ]
  },
  {
   "cell_type": "code",
   "execution_count": 129,
   "metadata": {},
   "outputs": [
    {
     "name": "stdout",
     "output_type": "stream",
     "text": [
      "<class 'pandas.core.frame.DataFrame'>\n",
      "RangeIndex: 23082 entries, 0 to 23081\n",
      "Data columns (total 8 columns):\n",
      " #   Column                      Non-Null Count  Dtype         \n",
      "---  ------                      --------------  -----         \n",
      " 0   location                    23082 non-null  object        \n",
      " 1   date                        23082 non-null  datetime64[ns]\n",
      " 2   new_cases                   23082 non-null  int64         \n",
      " 3   new_deaths                  23082 non-null  int64         \n",
      " 4   population                  23018 non-null  float64       \n",
      " 5   aged_65_older_percent       20643 non-null  float64       \n",
      " 6   gdp_per_capita              20711 non-null  float64       \n",
      " 7   hospital_beds_per_thousand  19144 non-null  float64       \n",
      "dtypes: datetime64[ns](1), float64(4), int64(2), object(1)\n",
      "memory usage: 1.4+ MB\n"
     ]
    }
   ],
   "source": [
    "data.info()"
   ]
  },
  {
   "cell_type": "markdown",
   "metadata": {},
   "source": [
    "### Variables"
   ]
  },
  {
   "cell_type": "code",
   "execution_count": 130,
   "metadata": {},
   "outputs": [],
   "source": [
    "# Store the relevant Categorical Variables for analysis on a list\n",
    "## There is no categorical variables.\n",
    "\n",
    "# Store the relevant Numeric Variables for analysis on a list\n",
    "num_cols = ['new_cases', 'new_deaths', 'population', 'aged_65_older_percent', 'gdp_per_capita', 'hospital_beds_per_thousand']     \n"
   ]
  },
  {
   "cell_type": "markdown",
   "metadata": {},
   "source": [
    "## Exploratory Data Analysis (EDA)"
   ]
  },
  {
   "cell_type": "markdown",
   "metadata": {},
   "source": [
    "### Plotting Objectives\n",
    "Before diving into the EDA, it is good to have a clear goal in mind. Our goal is to calculate some descriptive statistics.\n",
    "\n",
    "Given our goal, the following points should help explore and visualize data accordingly:\n",
    " * Check features and their distributions, unidimensionally.\n",
    " * Check correlation between features, bidimensionally."
   ]
  },
  {
   "cell_type": "markdown",
   "metadata": {},
   "source": [
    "### Defining Functions for EDA"
   ]
  },
  {
   "cell_type": "code",
   "execution_count": 131,
   "metadata": {},
   "outputs": [],
   "source": [
    "### DATA ANALYSIS PART ###\n",
    "\n",
    "# Checking Shape\n",
    "def data_shape(data):\n",
    "    print(\"Dataset shape: \" + str(data.shape[0]) + \" observations and \" + str(data.shape[1]) + \" features.\")\n",
    "\n",
    "# Check Size\n",
    "def data_size(data):\n",
    "    print(\"This dataset has a total of: \" + str(data.size) + \" entries.\")\n",
    "\n",
    "# Check Information\n",
    "def data_info(data):\n",
    "    print(data.name)\n",
    "    print(\"--------------------------------------\")\n",
    "    data.info()\n",
    "    print(\"--------------------------------------\")  \n",
    "\n",
    "def negative_values(neg_cols, data):\n",
    "    for col in neg_cols:\n",
    "        data[col][data[cols] < 0] = np.nan\n",
    "\n",
    "# Check for Duplicates\n",
    "def duplicated_rows(data):\n",
    "    print(\"There are: \" + str(data.duplicated(keep='first').sum()) + \" duplicated observations (not including first unique ocurrence).\")\n",
    "\n",
    "# Check for Missing Values\n",
    "def missing_values(data):\n",
    "    print('Checking for missing values in the', data.name) # data.name has been defined previously in the \"Importing\" section\n",
    "    print('------------------------------------------------------------')\n",
    "    print(data.isna().sum())\n",
    "    print('------------------------------------------------------------')\n",
    "\n",
    "# Get Unique Values\n",
    "def unique_values(data, columns_list):                      # define a function (output: unique values for categorical variables on the numeric format 'int')\n",
    "    for i in columns_list:                                   # cols is the list of features from this dataset defined in the section above\n",
    "        print('Unique values in', i, 'are', data[i].unique()) # calls function unique() to find get unique values\n",
    "        print('----------------------------------------------------------------------------------------------------')\n",
    "\n",
    "\n",
    "# Save Data - Numeric & Continuous Variables\n",
    "def save_num_data(data, columns_list):\n",
    "    num_data = data[columns_list]\n",
    "    num_data.name = \"Cardio Base Dataset - Numerical Variables\" # rename the dataset\n",
    "    return num_data\n",
    "\n",
    "# IQR Method - Detecting Outliers\n",
    "def iqr_method(potential_outliers, data): #arg 1 takes list of features with potential outliers, arg2 \n",
    "    i = 1\n",
    "    for col in potential_outliers:\n",
    "        Q1 = data[col].quantile(0.25)\n",
    "        Q3 = data[col].quantile(0.75)\n",
    "        IQR = Q3 - Q1\n",
    "        print(f'column {i}: {data[col].name}\\n------------------------')\n",
    "        print('1st quantile => ',Q1)\n",
    "        print('3rd quantile => ',Q3)\n",
    "        print('IQR =>',IQR)\n",
    "\n",
    "        lower_bound  = Q1-(1.5*IQR)\n",
    "        print('lower_bound => ' + str(lower_bound))\n",
    "\n",
    "        upper_bound = Q3+(1.5*IQR)\n",
    "        print('upper_bound => ' + str(upper_bound))\n",
    "        print(\"\\n------------------------\")\n",
    "        \n",
    "        i = i + 1\n",
    "\n",
    "        data[col][(data[col] < lower_bound) | (data[col] > upper_bound)] = np.nan  # replacing outliers with NaN\n",
    "\n",
    "# Outliers Method - For Numerical Variables\n",
    "def bound_method(data):\n",
    "    for col in data:\n",
    "        data[col][ (data[col] > data[col].quantile(0.975)) | (data[col] < data[col].quantile(0.025))] = np.nan  # replacing outliers with NaN\n",
    "\n",
    "### VISUALIZATION PART ###\n",
    "\n",
    "# Plot Probability Distributions - Continuous Variables\n",
    "def pdf_plot_cont(data):\n",
    "    for i in data:\n",
    "        ax = sns.displot(data[i], kind=\"kde\")\n",
    "        plt.show()\n",
    "\n",
    "# Plot Box Plots - Continuous Variables with Groups\n",
    "def box_plot(data): # the first argument takes a list of features and the second the dataset\n",
    "    for i in data:\n",
    "        ax = sns.boxplot(x = data[i], orient = 'h')\n",
    "        plt.show()"
   ]
  },
  {
   "cell_type": "markdown",
   "metadata": {},
   "source": [
    "### Shape and Size"
   ]
  },
  {
   "cell_type": "code",
   "execution_count": 132,
   "metadata": {},
   "outputs": [
    {
     "name": "stdout",
     "output_type": "stream",
     "text": [
      "Dataset shape: 23082 observations and 8 features.\n",
      "This dataset has a total of: 184656 entries.\n"
     ]
    }
   ],
   "source": [
    "# Check Shape and Size\n",
    "data_shape(data) # calls shape function\n",
    "data_size(data)  # calls size function"
   ]
  },
  {
   "cell_type": "markdown",
   "metadata": {},
   "source": [
    "### Types"
   ]
  },
  {
   "cell_type": "code",
   "execution_count": 133,
   "metadata": {},
   "outputs": [
    {
     "name": "stdout",
     "output_type": "stream",
     "text": [
      "Covid Dataset\n",
      "--------------------------------------\n",
      "<class 'pandas.core.frame.DataFrame'>\n",
      "RangeIndex: 23082 entries, 0 to 23081\n",
      "Data columns (total 8 columns):\n",
      " #   Column                      Non-Null Count  Dtype         \n",
      "---  ------                      --------------  -----         \n",
      " 0   location                    23082 non-null  object        \n",
      " 1   date                        23082 non-null  datetime64[ns]\n",
      " 2   new_cases                   23082 non-null  int64         \n",
      " 3   new_deaths                  23082 non-null  int64         \n",
      " 4   population                  23018 non-null  float64       \n",
      " 5   aged_65_older_percent       20643 non-null  float64       \n",
      " 6   gdp_per_capita              20711 non-null  float64       \n",
      " 7   hospital_beds_per_thousand  19144 non-null  float64       \n",
      "dtypes: datetime64[ns](1), float64(4), int64(2), object(1)\n",
      "memory usage: 1.4+ MB\n",
      "--------------------------------------\n"
     ]
    }
   ],
   "source": [
    "# Check Data Type\n",
    "data_info(data) # calls info function"
   ]
  },
  {
   "cell_type": "markdown",
   "metadata": {},
   "source": [
    "All features have the expected type."
   ]
  },
  {
   "cell_type": "code",
   "execution_count": 134,
   "metadata": {},
   "outputs": [
    {
     "data": {
      "text/html": [
       "<div>\n",
       "<style scoped>\n",
       "    .dataframe tbody tr th:only-of-type {\n",
       "        vertical-align: middle;\n",
       "    }\n",
       "\n",
       "    .dataframe tbody tr th {\n",
       "        vertical-align: top;\n",
       "    }\n",
       "\n",
       "    .dataframe thead th {\n",
       "        text-align: right;\n",
       "    }\n",
       "</style>\n",
       "<table border=\"1\" class=\"dataframe\">\n",
       "  <thead>\n",
       "    <tr style=\"text-align: right;\">\n",
       "      <th></th>\n",
       "      <th>new_cases</th>\n",
       "      <th>new_deaths</th>\n",
       "      <th>population</th>\n",
       "      <th>aged_65_older_percent</th>\n",
       "      <th>gdp_per_capita</th>\n",
       "      <th>hospital_beds_per_thousand</th>\n",
       "    </tr>\n",
       "  </thead>\n",
       "  <tbody>\n",
       "    <tr>\n",
       "      <th>count</th>\n",
       "      <td>23082.000000</td>\n",
       "      <td>23082.000000</td>\n",
       "      <td>2.301800e+04</td>\n",
       "      <td>20643.000000</td>\n",
       "      <td>20711.000000</td>\n",
       "      <td>19144.000000</td>\n",
       "    </tr>\n",
       "    <tr>\n",
       "      <th>mean</th>\n",
       "      <td>624.769257</td>\n",
       "      <td>35.629062</td>\n",
       "      <td>1.037003e+08</td>\n",
       "      <td>9.758570</td>\n",
       "      <td>22708.384791</td>\n",
       "      <td>3.204687</td>\n",
       "    </tr>\n",
       "    <tr>\n",
       "      <th>std</th>\n",
       "      <td>5517.309068</td>\n",
       "      <td>330.986941</td>\n",
       "      <td>6.716897e+08</td>\n",
       "      <td>6.445662</td>\n",
       "      <td>21187.826121</td>\n",
       "      <td>2.593700</td>\n",
       "    </tr>\n",
       "    <tr>\n",
       "      <th>min</th>\n",
       "      <td>-2461.000000</td>\n",
       "      <td>-1918.000000</td>\n",
       "      <td>8.090000e+02</td>\n",
       "      <td>1.144000</td>\n",
       "      <td>661.240000</td>\n",
       "      <td>0.100000</td>\n",
       "    </tr>\n",
       "    <tr>\n",
       "      <th>25%</th>\n",
       "      <td>0.000000</td>\n",
       "      <td>0.000000</td>\n",
       "      <td>2.083380e+06</td>\n",
       "      <td>3.853000</td>\n",
       "      <td>6426.674000</td>\n",
       "      <td>1.400000</td>\n",
       "    </tr>\n",
       "    <tr>\n",
       "      <th>50%</th>\n",
       "      <td>3.000000</td>\n",
       "      <td>0.000000</td>\n",
       "      <td>9.449321e+06</td>\n",
       "      <td>7.646000</td>\n",
       "      <td>15524.995000</td>\n",
       "      <td>2.600000</td>\n",
       "    </tr>\n",
       "    <tr>\n",
       "      <th>75%</th>\n",
       "      <td>55.000000</td>\n",
       "      <td>1.000000</td>\n",
       "      <td>3.346920e+07</td>\n",
       "      <td>15.322000</td>\n",
       "      <td>35220.084000</td>\n",
       "      <td>4.210000</td>\n",
       "    </tr>\n",
       "    <tr>\n",
       "      <th>max</th>\n",
       "      <td>133510.000000</td>\n",
       "      <td>10520.000000</td>\n",
       "      <td>7.794799e+09</td>\n",
       "      <td>27.049000</td>\n",
       "      <td>116935.600000</td>\n",
       "      <td>13.800000</td>\n",
       "    </tr>\n",
       "  </tbody>\n",
       "</table>\n",
       "</div>"
      ],
      "text/plain": [
       "           new_cases    new_deaths    population  aged_65_older_percent  \\\n",
       "count   23082.000000  23082.000000  2.301800e+04           20643.000000   \n",
       "mean      624.769257     35.629062  1.037003e+08               9.758570   \n",
       "std      5517.309068    330.986941  6.716897e+08               6.445662   \n",
       "min     -2461.000000  -1918.000000  8.090000e+02               1.144000   \n",
       "25%         0.000000      0.000000  2.083380e+06               3.853000   \n",
       "50%         3.000000      0.000000  9.449321e+06               7.646000   \n",
       "75%        55.000000      1.000000  3.346920e+07              15.322000   \n",
       "max    133510.000000  10520.000000  7.794799e+09              27.049000   \n",
       "\n",
       "       gdp_per_capita  hospital_beds_per_thousand  \n",
       "count    20711.000000                19144.000000  \n",
       "mean     22708.384791                    3.204687  \n",
       "std      21187.826121                    2.593700  \n",
       "min        661.240000                    0.100000  \n",
       "25%       6426.674000                    1.400000  \n",
       "50%      15524.995000                    2.600000  \n",
       "75%      35220.084000                    4.210000  \n",
       "max     116935.600000                   13.800000  "
      ]
     },
     "execution_count": 134,
     "metadata": {},
     "output_type": "execute_result"
    }
   ],
   "source": [
    "# Decriptive Statistics\n",
    "data.describe()"
   ]
  },
  {
   "cell_type": "markdown",
   "metadata": {},
   "source": [
    "There are some negative values for new_cases new_deaths, we need to get rid of those."
   ]
  },
  {
   "cell_type": "code",
   "execution_count": 135,
   "metadata": {},
   "outputs": [
    {
     "data": {
      "text/html": [
       "<div>\n",
       "<style scoped>\n",
       "    .dataframe tbody tr th:only-of-type {\n",
       "        vertical-align: middle;\n",
       "    }\n",
       "\n",
       "    .dataframe tbody tr th {\n",
       "        vertical-align: top;\n",
       "    }\n",
       "\n",
       "    .dataframe thead th {\n",
       "        text-align: right;\n",
       "    }\n",
       "</style>\n",
       "<table border=\"1\" class=\"dataframe\">\n",
       "  <thead>\n",
       "    <tr style=\"text-align: right;\">\n",
       "      <th></th>\n",
       "      <th>new_cases</th>\n",
       "      <th>new_deaths</th>\n",
       "      <th>population</th>\n",
       "      <th>aged_65_older_percent</th>\n",
       "      <th>gdp_per_capita</th>\n",
       "      <th>hospital_beds_per_thousand</th>\n",
       "    </tr>\n",
       "  </thead>\n",
       "  <tbody>\n",
       "    <tr>\n",
       "      <th>count</th>\n",
       "      <td>23068.000000</td>\n",
       "      <td>23080.000000</td>\n",
       "      <td>2.301800e+04</td>\n",
       "      <td>20643.000000</td>\n",
       "      <td>20711.000000</td>\n",
       "      <td>19144.000000</td>\n",
       "    </tr>\n",
       "    <tr>\n",
       "      <th>mean</th>\n",
       "      <td>625.450841</td>\n",
       "      <td>35.718977</td>\n",
       "      <td>1.037003e+08</td>\n",
       "      <td>9.758570</td>\n",
       "      <td>22708.384791</td>\n",
       "      <td>3.204687</td>\n",
       "    </tr>\n",
       "    <tr>\n",
       "      <th>std</th>\n",
       "      <td>5518.888681</td>\n",
       "      <td>330.750398</td>\n",
       "      <td>6.716897e+08</td>\n",
       "      <td>6.445662</td>\n",
       "      <td>21187.826121</td>\n",
       "      <td>2.593700</td>\n",
       "    </tr>\n",
       "    <tr>\n",
       "      <th>min</th>\n",
       "      <td>0.000000</td>\n",
       "      <td>0.000000</td>\n",
       "      <td>8.090000e+02</td>\n",
       "      <td>1.144000</td>\n",
       "      <td>661.240000</td>\n",
       "      <td>0.100000</td>\n",
       "    </tr>\n",
       "    <tr>\n",
       "      <th>25%</th>\n",
       "      <td>0.000000</td>\n",
       "      <td>0.000000</td>\n",
       "      <td>2.083380e+06</td>\n",
       "      <td>3.853000</td>\n",
       "      <td>6426.674000</td>\n",
       "      <td>1.400000</td>\n",
       "    </tr>\n",
       "    <tr>\n",
       "      <th>50%</th>\n",
       "      <td>3.000000</td>\n",
       "      <td>0.000000</td>\n",
       "      <td>9.449321e+06</td>\n",
       "      <td>7.646000</td>\n",
       "      <td>15524.995000</td>\n",
       "      <td>2.600000</td>\n",
       "    </tr>\n",
       "    <tr>\n",
       "      <th>75%</th>\n",
       "      <td>55.000000</td>\n",
       "      <td>1.000000</td>\n",
       "      <td>3.346920e+07</td>\n",
       "      <td>15.322000</td>\n",
       "      <td>35220.084000</td>\n",
       "      <td>4.210000</td>\n",
       "    </tr>\n",
       "    <tr>\n",
       "      <th>max</th>\n",
       "      <td>133510.000000</td>\n",
       "      <td>10520.000000</td>\n",
       "      <td>7.794799e+09</td>\n",
       "      <td>27.049000</td>\n",
       "      <td>116935.600000</td>\n",
       "      <td>13.800000</td>\n",
       "    </tr>\n",
       "  </tbody>\n",
       "</table>\n",
       "</div>"
      ],
      "text/plain": [
       "           new_cases    new_deaths    population  aged_65_older_percent  \\\n",
       "count   23068.000000  23080.000000  2.301800e+04           20643.000000   \n",
       "mean      625.450841     35.718977  1.037003e+08               9.758570   \n",
       "std      5518.888681    330.750398  6.716897e+08               6.445662   \n",
       "min         0.000000      0.000000  8.090000e+02               1.144000   \n",
       "25%         0.000000      0.000000  2.083380e+06               3.853000   \n",
       "50%         3.000000      0.000000  9.449321e+06               7.646000   \n",
       "75%        55.000000      1.000000  3.346920e+07              15.322000   \n",
       "max    133510.000000  10520.000000  7.794799e+09              27.049000   \n",
       "\n",
       "       gdp_per_capita  hospital_beds_per_thousand  \n",
       "count    20711.000000                19144.000000  \n",
       "mean     22708.384791                    3.204687  \n",
       "std      21187.826121                    2.593700  \n",
       "min        661.240000                    0.100000  \n",
       "25%       6426.674000                    1.400000  \n",
       "50%      15524.995000                    2.600000  \n",
       "75%      35220.084000                    4.210000  \n",
       "max     116935.600000                   13.800000  "
      ]
     },
     "execution_count": 135,
     "metadata": {},
     "output_type": "execute_result"
    }
   ],
   "source": [
    "# Replace Negative Values with Missing values\n",
    "\n",
    "data['new_cases'][data['new_cases'] < 0] = np.nan\n",
    "data['new_deaths'][data['new_deaths'] < 0] = np.nan\n",
    "\n",
    "data.describe()"
   ]
  },
  {
   "cell_type": "markdown",
   "metadata": {},
   "source": [
    "### Duplicated Values\n",
    "Let's check for duplicated observations."
   ]
  },
  {
   "cell_type": "code",
   "execution_count": 136,
   "metadata": {},
   "outputs": [
    {
     "name": "stdout",
     "output_type": "stream",
     "text": [
      "There are: 0 duplicated observations (not including first unique ocurrence).\n"
     ]
    }
   ],
   "source": [
    "# Check for duplicates\n",
    "duplicated_rows(data)"
   ]
  },
  {
   "cell_type": "markdown",
   "metadata": {},
   "source": [
    "### Missing Values"
   ]
  },
  {
   "cell_type": "code",
   "execution_count": 137,
   "metadata": {},
   "outputs": [
    {
     "name": "stdout",
     "output_type": "stream",
     "text": [
      "<class 'pandas.core.frame.DataFrame'>\n",
      "RangeIndex: 23082 entries, 0 to 23081\n",
      "Data columns (total 8 columns):\n",
      " #   Column                      Non-Null Count  Dtype         \n",
      "---  ------                      --------------  -----         \n",
      " 0   location                    23082 non-null  object        \n",
      " 1   date                        23082 non-null  datetime64[ns]\n",
      " 2   new_cases                   23068 non-null  float64       \n",
      " 3   new_deaths                  23080 non-null  float64       \n",
      " 4   population                  23018 non-null  float64       \n",
      " 5   aged_65_older_percent       20643 non-null  float64       \n",
      " 6   gdp_per_capita              20711 non-null  float64       \n",
      " 7   hospital_beds_per_thousand  19144 non-null  float64       \n",
      "dtypes: datetime64[ns](1), float64(6), object(1)\n",
      "memory usage: 1.4+ MB\n"
     ]
    }
   ],
   "source": [
    "data.info()"
   ]
  },
  {
   "cell_type": "markdown",
   "metadata": {},
   "source": [
    "In this dataset, there seem to be some missing values in the N/A format."
   ]
  },
  {
   "cell_type": "code",
   "execution_count": 138,
   "metadata": {},
   "outputs": [
    {
     "name": "stdout",
     "output_type": "stream",
     "text": [
      "Checking for missing values in the Covid Dataset\n",
      "------------------------------------------------------------\n",
      "location                         0\n",
      "date                             0\n",
      "new_cases                       14\n",
      "new_deaths                       2\n",
      "population                      64\n",
      "aged_65_older_percent         2439\n",
      "gdp_per_capita                2371\n",
      "hospital_beds_per_thousand    3938\n",
      "dtype: int64\n",
      "------------------------------------------------------------\n"
     ]
    }
   ],
   "source": [
    "# Check for missing values (before treating for outliers)\n",
    "missing_values(data) # calls missing values function"
   ]
  },
  {
   "cell_type": "code",
   "execution_count": 139,
   "metadata": {},
   "outputs": [
    {
     "name": "stdout",
     "output_type": "stream",
     "text": [
      "Checking for missing values in the Covid Dataset\n",
      "------------------------------------------------------------\n",
      "location                      0\n",
      "date                          0\n",
      "new_cases                     0\n",
      "new_deaths                    0\n",
      "population                    0\n",
      "aged_65_older_percent         0\n",
      "gdp_per_capita                0\n",
      "hospital_beds_per_thousand    0\n",
      "dtype: int64\n",
      "------------------------------------------------------------\n"
     ]
    }
   ],
   "source": [
    "# Drop missing values\n",
    "data.dropna(inplace = True)\n",
    "\n",
    "# Check for missing values (before treating for outliers)\n",
    "missing_values(data) # calls missing values function"
   ]
  },
  {
   "cell_type": "code",
   "execution_count": 140,
   "metadata": {},
   "outputs": [
    {
     "name": "stdout",
     "output_type": "stream",
     "text": [
      "<class 'pandas.core.frame.DataFrame'>\n",
      "Int64Index: 18315 entries, 0 to 23017\n",
      "Data columns (total 8 columns):\n",
      " #   Column                      Non-Null Count  Dtype         \n",
      "---  ------                      --------------  -----         \n",
      " 0   location                    18315 non-null  object        \n",
      " 1   date                        18315 non-null  datetime64[ns]\n",
      " 2   new_cases                   18315 non-null  float64       \n",
      " 3   new_deaths                  18315 non-null  float64       \n",
      " 4   population                  18315 non-null  float64       \n",
      " 5   aged_65_older_percent       18315 non-null  float64       \n",
      " 6   gdp_per_capita              18315 non-null  float64       \n",
      " 7   hospital_beds_per_thousand  18315 non-null  float64       \n",
      "dtypes: datetime64[ns](1), float64(6), object(1)\n",
      "memory usage: 1.3+ MB\n"
     ]
    }
   ],
   "source": [
    "data.info()"
   ]
  },
  {
   "cell_type": "markdown",
   "metadata": {},
   "source": [
    "### Numeric Variables"
   ]
  },
  {
   "cell_type": "code",
   "execution_count": 141,
   "metadata": {},
   "outputs": [
    {
     "data": {
      "text/html": [
       "<div>\n",
       "<style scoped>\n",
       "    .dataframe tbody tr th:only-of-type {\n",
       "        vertical-align: middle;\n",
       "    }\n",
       "\n",
       "    .dataframe tbody tr th {\n",
       "        vertical-align: top;\n",
       "    }\n",
       "\n",
       "    .dataframe thead th {\n",
       "        text-align: right;\n",
       "    }\n",
       "</style>\n",
       "<table border=\"1\" class=\"dataframe\">\n",
       "  <thead>\n",
       "    <tr style=\"text-align: right;\">\n",
       "      <th></th>\n",
       "      <th>new_cases</th>\n",
       "      <th>new_deaths</th>\n",
       "      <th>population</th>\n",
       "      <th>aged_65_older_percent</th>\n",
       "      <th>gdp_per_capita</th>\n",
       "      <th>hospital_beds_per_thousand</th>\n",
       "    </tr>\n",
       "  </thead>\n",
       "  <tbody>\n",
       "    <tr>\n",
       "      <th>3618</th>\n",
       "      <td>0.0</td>\n",
       "      <td>0.0</td>\n",
       "      <td>16718971.0</td>\n",
       "      <td>4.412</td>\n",
       "      <td>3645.070</td>\n",
       "      <td>0.80</td>\n",
       "    </tr>\n",
       "    <tr>\n",
       "      <th>10440</th>\n",
       "      <td>18.0</td>\n",
       "      <td>9.0</td>\n",
       "      <td>4937796.0</td>\n",
       "      <td>13.928</td>\n",
       "      <td>67335.293</td>\n",
       "      <td>2.96</td>\n",
       "    </tr>\n",
       "    <tr>\n",
       "      <th>2275</th>\n",
       "      <td>202.0</td>\n",
       "      <td>82.0</td>\n",
       "      <td>11589616.0</td>\n",
       "      <td>18.571</td>\n",
       "      <td>42658.576</td>\n",
       "      <td>5.64</td>\n",
       "    </tr>\n",
       "    <tr>\n",
       "      <th>9405</th>\n",
       "      <td>33.0</td>\n",
       "      <td>4.0</td>\n",
       "      <td>9660350.0</td>\n",
       "      <td>18.577</td>\n",
       "      <td>26777.561</td>\n",
       "      <td>7.02</td>\n",
       "    </tr>\n",
       "    <tr>\n",
       "      <th>10287</th>\n",
       "      <td>0.0</td>\n",
       "      <td>0.0</td>\n",
       "      <td>4937796.0</td>\n",
       "      <td>13.928</td>\n",
       "      <td>67335.293</td>\n",
       "      <td>2.96</td>\n",
       "    </tr>\n",
       "  </tbody>\n",
       "</table>\n",
       "</div>"
      ],
      "text/plain": [
       "       new_cases  new_deaths  population  aged_65_older_percent  \\\n",
       "3618         0.0         0.0  16718971.0                  4.412   \n",
       "10440       18.0         9.0   4937796.0                 13.928   \n",
       "2275       202.0        82.0  11589616.0                 18.571   \n",
       "9405        33.0         4.0   9660350.0                 18.577   \n",
       "10287        0.0         0.0   4937796.0                 13.928   \n",
       "\n",
       "       gdp_per_capita  hospital_beds_per_thousand  \n",
       "3618         3645.070                        0.80  \n",
       "10440       67335.293                        2.96  \n",
       "2275        42658.576                        5.64  \n",
       "9405        26777.561                        7.02  \n",
       "10287       67335.293                        2.96  "
      ]
     },
     "execution_count": 141,
     "metadata": {},
     "output_type": "execute_result"
    }
   ],
   "source": [
    "# Save numeric dataset into a new dataset for later use\n",
    "num_data = save_num_data(data, num_cols) # calls save_num_data function and stores output\n",
    "\n",
    "# Quick Overview\n",
    "num_data.sample(5)"
   ]
  },
  {
   "cell_type": "markdown",
   "metadata": {},
   "source": [
    "#### Summary Statistics"
   ]
  },
  {
   "cell_type": "code",
   "execution_count": 142,
   "metadata": {},
   "outputs": [
    {
     "data": {
      "text/html": [
       "<div>\n",
       "<style scoped>\n",
       "    .dataframe tbody tr th:only-of-type {\n",
       "        vertical-align: middle;\n",
       "    }\n",
       "\n",
       "    .dataframe tbody tr th {\n",
       "        vertical-align: top;\n",
       "    }\n",
       "\n",
       "    .dataframe thead th {\n",
       "        text-align: right;\n",
       "    }\n",
       "</style>\n",
       "<table border=\"1\" class=\"dataframe\">\n",
       "  <thead>\n",
       "    <tr style=\"text-align: right;\">\n",
       "      <th></th>\n",
       "      <th>count</th>\n",
       "      <th>mean</th>\n",
       "      <th>std</th>\n",
       "      <th>min</th>\n",
       "      <th>25%</th>\n",
       "      <th>50%</th>\n",
       "      <th>75%</th>\n",
       "      <th>max</th>\n",
       "    </tr>\n",
       "  </thead>\n",
       "  <tbody>\n",
       "    <tr>\n",
       "      <th>new_cases</th>\n",
       "      <td>18315.0</td>\n",
       "      <td>7.848802e+02</td>\n",
       "      <td>6.183781e+03</td>\n",
       "      <td>0.000</td>\n",
       "      <td>0.000</td>\n",
       "      <td>6.000000e+00</td>\n",
       "      <td>9.800000e+01</td>\n",
       "      <td>1.335100e+05</td>\n",
       "    </tr>\n",
       "    <tr>\n",
       "      <th>new_deaths</th>\n",
       "      <td>18315.0</td>\n",
       "      <td>4.488152e+01</td>\n",
       "      <td>3.707217e+02</td>\n",
       "      <td>0.000</td>\n",
       "      <td>0.000</td>\n",
       "      <td>0.000000e+00</td>\n",
       "      <td>2.000000e+00</td>\n",
       "      <td>1.052000e+04</td>\n",
       "    </tr>\n",
       "    <tr>\n",
       "      <th>population</th>\n",
       "      <td>18315.0</td>\n",
       "      <td>1.269424e+08</td>\n",
       "      <td>7.510070e+08</td>\n",
       "      <td>97928.000</td>\n",
       "      <td>4105268.000</td>\n",
       "      <td>1.070898e+07</td>\n",
       "      <td>4.373376e+07</td>\n",
       "      <td>7.794799e+09</td>\n",
       "    </tr>\n",
       "    <tr>\n",
       "      <th>aged_65_older_percent</th>\n",
       "      <td>18315.0</td>\n",
       "      <td>1.015637e+01</td>\n",
       "      <td>6.461980e+00</td>\n",
       "      <td>1.144</td>\n",
       "      <td>4.469</td>\n",
       "      <td>8.153000e+00</td>\n",
       "      <td>1.541300e+01</td>\n",
       "      <td>2.704900e+01</td>\n",
       "    </tr>\n",
       "    <tr>\n",
       "      <th>gdp_per_capita</th>\n",
       "      <td>18315.0</td>\n",
       "      <td>2.333663e+04</td>\n",
       "      <td>2.123623e+04</td>\n",
       "      <td>661.240</td>\n",
       "      <td>7485.013</td>\n",
       "      <td>1.627767e+04</td>\n",
       "      <td>3.522008e+04</td>\n",
       "      <td>1.169356e+05</td>\n",
       "    </tr>\n",
       "    <tr>\n",
       "      <th>hospital_beds_per_thousand</th>\n",
       "      <td>18315.0</td>\n",
       "      <td>3.126497e+00</td>\n",
       "      <td>2.455429e+00</td>\n",
       "      <td>0.100</td>\n",
       "      <td>1.380</td>\n",
       "      <td>2.600000e+00</td>\n",
       "      <td>4.210000e+00</td>\n",
       "      <td>1.305000e+01</td>\n",
       "    </tr>\n",
       "  </tbody>\n",
       "</table>\n",
       "</div>"
      ],
      "text/plain": [
       "                              count          mean           std        min  \\\n",
       "new_cases                   18315.0  7.848802e+02  6.183781e+03      0.000   \n",
       "new_deaths                  18315.0  4.488152e+01  3.707217e+02      0.000   \n",
       "population                  18315.0  1.269424e+08  7.510070e+08  97928.000   \n",
       "aged_65_older_percent       18315.0  1.015637e+01  6.461980e+00      1.144   \n",
       "gdp_per_capita              18315.0  2.333663e+04  2.123623e+04    661.240   \n",
       "hospital_beds_per_thousand  18315.0  3.126497e+00  2.455429e+00      0.100   \n",
       "\n",
       "                                    25%           50%           75%  \\\n",
       "new_cases                         0.000  6.000000e+00  9.800000e+01   \n",
       "new_deaths                        0.000  0.000000e+00  2.000000e+00   \n",
       "population                  4105268.000  1.070898e+07  4.373376e+07   \n",
       "aged_65_older_percent             4.469  8.153000e+00  1.541300e+01   \n",
       "gdp_per_capita                 7485.013  1.627767e+04  3.522008e+04   \n",
       "hospital_beds_per_thousand        1.380  2.600000e+00  4.210000e+00   \n",
       "\n",
       "                                     max  \n",
       "new_cases                   1.335100e+05  \n",
       "new_deaths                  1.052000e+04  \n",
       "population                  7.794799e+09  \n",
       "aged_65_older_percent       2.704900e+01  \n",
       "gdp_per_capita              1.169356e+05  \n",
       "hospital_beds_per_thousand  1.305000e+01  "
      ]
     },
     "execution_count": 142,
     "metadata": {},
     "output_type": "execute_result"
    }
   ],
   "source": [
    "# Summary Statistics - Numerical Variables\n",
    "num_data.describe().T"
   ]
  },
  {
   "cell_type": "markdown",
   "metadata": {},
   "source": [
    "#### Probability Distributions"
   ]
  },
  {
   "cell_type": "code",
   "execution_count": 143,
   "metadata": {},
   "outputs": [
    {
     "data": {
      "image/png": "[encoded data removed]",
      "text/plain": [
       "<Figure size 360x360 with 1 Axes>"
      ]
     },
     "metadata": {
      "needs_background": "light"
     },
     "output_type": "display_data"
    },
    {
     "data": {
      "image/png": "[encoded data removed]",
      "text/plain": [
       "<Figure size 360x360 with 1 Axes>"
      ]
     },
     "metadata": {
      "needs_background": "light"
     },
     "output_type": "display_data"
    },
    {
     "data": {
      "image/png": "[encoded data removed]",
      "text/plain": [
       "<Figure size 360x360 with 1 Axes>"
      ]
     },
     "metadata": {
      "needs_background": "light"
     },
     "output_type": "display_data"
    },
    {
     "data": {
      "image/png": "[encoded data removed]",
      "text/plain": [
       "<Figure size 360x360 with 1 Axes>"
      ]
     },
     "metadata": {
      "needs_background": "light"
     },
     "output_type": "display_data"
    },
    {
     "data": {
      "image/png": "[encoded data removed]",
      "text/plain": [
       "<Figure size 360x360 with 1 Axes>"
      ]
     },
     "metadata": {
      "needs_background": "light"
     },
     "output_type": "display_data"
    },
    {
     "data": {
      "image/png": "[encoded data removed]",
      "text/plain": [
       "<Figure size 360x360 with 1 Axes>"
      ]
     },
     "metadata": {
      "needs_background": "light"
     },
     "output_type": "display_data"
    }
   ],
   "source": [
    "#### Probability Distributions (PDFs) - Numerical Variables\n",
    "pdf_plot_cont(num_data) # calls pdf plot function"
   ]
  },
  {
   "cell_type": "markdown",
   "metadata": {},
   "source": [
    "All features are okay. Only population seems to be strongly skewed to the right, let's focus on this.\n",
    "\n",
    "This information is important because it supports the methods we use for:\n",
    "* Outliers Detection and Treatment"
   ]
  },
  {
   "cell_type": "markdown",
   "metadata": {},
   "source": [
    "#### Outliers Detection and Treatment & Inconsistencies\n",
    "\n",
    "Outliers can be found due to variation within the data (i.e., due to an unexpected large variance in a feature) or due to mistakes. Both cases can be dealt with. We started by looking at the probability distribution of those features and we noticed their skewness, which might indicated possible candidate features for outliers. We also looked at the summary statistics which also show unexpected values."
   ]
  },
  {
   "cell_type": "code",
   "execution_count": 144,
   "metadata": {},
   "outputs": [
    {
     "data": {
      "image/png": "[encoded data removed]",
      "text/plain": [
       "<Figure size 432x288 with 1 Axes>"
      ]
     },
     "metadata": {
      "needs_background": "light"
     },
     "output_type": "display_data"
    },
    {
     "data": {
      "image/png": "[encoded data removed]",
      "text/plain": [
       "<Figure size 432x288 with 1 Axes>"
      ]
     },
     "metadata": {
      "needs_background": "light"
     },
     "output_type": "display_data"
    },
    {
     "data": {
      "image/png": "[encoded data removed]",
      "text/plain": [
       "<Figure size 432x288 with 1 Axes>"
      ]
     },
     "metadata": {
      "needs_background": "light"
     },
     "output_type": "display_data"
    },
    {
     "data": {
      "image/png": "[encoded data removed]",
      "text/plain": [
       "<Figure size 432x288 with 1 Axes>"
      ]
     },
     "metadata": {
      "needs_background": "light"
     },
     "output_type": "display_data"
    },
    {
     "data": {
      "image/png": "[encoded data removed]",
      "text/plain": [
       "<Figure size 432x288 with 1 Axes>"
      ]
     },
     "metadata": {
      "needs_background": "light"
     },
     "output_type": "display_data"
    },
    {
     "data": {
      "image/png": "[encoded data removed]",
      "text/plain": [
       "<Figure size 432x288 with 1 Axes>"
      ]
     },
     "metadata": {
      "needs_background": "light"
     },
     "output_type": "display_data"
    }
   ],
   "source": [
    "# Boxplots (before treating for outliers) - Numerical Variables\n",
    "box_plot(num_data)"
   ]
  },
  {
   "cell_type": "markdown",
   "metadata": {},
   "source": [
    "As a simple rule, we will use the IQR method."
   ]
  },
  {
   "cell_type": "code",
   "execution_count": 145,
   "metadata": {},
   "outputs": [
    {
     "name": "stdout",
     "output_type": "stream",
     "text": [
      "column 1: population\n",
      "------------------------\n",
      "1st quantile =>  4105268.0\n",
      "3rd quantile =>  43733759.0\n",
      "IQR => 39628491.0\n",
      "lower_bound => -55337468.5\n",
      "upper_bound => 103176495.5\n",
      "\n",
      "------------------------\n"
     ]
    }
   ],
   "source": [
    "potential_outliers = ['population']\n",
    "# Calls the IQR Method\n",
    "iqr_method(potential_outliers, data)"
   ]
  },
  {
   "cell_type": "code",
   "execution_count": 146,
   "metadata": {},
   "outputs": [
    {
     "data": {
      "text/html": [
       "<div>\n",
       "<style scoped>\n",
       "    .dataframe tbody tr th:only-of-type {\n",
       "        vertical-align: middle;\n",
       "    }\n",
       "\n",
       "    .dataframe tbody tr th {\n",
       "        vertical-align: top;\n",
       "    }\n",
       "\n",
       "    .dataframe thead th {\n",
       "        text-align: right;\n",
       "    }\n",
       "</style>\n",
       "<table border=\"1\" class=\"dataframe\">\n",
       "  <thead>\n",
       "    <tr style=\"text-align: right;\">\n",
       "      <th></th>\n",
       "      <th>count</th>\n",
       "      <th>mean</th>\n",
       "      <th>std</th>\n",
       "      <th>min</th>\n",
       "      <th>25%</th>\n",
       "      <th>50%</th>\n",
       "      <th>75%</th>\n",
       "      <th>max</th>\n",
       "    </tr>\n",
       "  </thead>\n",
       "  <tbody>\n",
       "    <tr>\n",
       "      <th>new_cases</th>\n",
       "      <td>16351.0</td>\n",
       "      <td>1.965567e+02</td>\n",
       "      <td>6.694133e+02</td>\n",
       "      <td>0.000</td>\n",
       "      <td>0.000</td>\n",
       "      <td>5.000</td>\n",
       "      <td>7.100000e+01</td>\n",
       "      <td>1.153600e+04</td>\n",
       "    </tr>\n",
       "    <tr>\n",
       "      <th>new_deaths</th>\n",
       "      <td>16351.0</td>\n",
       "      <td>1.346120e+01</td>\n",
       "      <td>7.415979e+01</td>\n",
       "      <td>0.000</td>\n",
       "      <td>0.000</td>\n",
       "      <td>0.000</td>\n",
       "      <td>2.000000e+00</td>\n",
       "      <td>2.004000e+03</td>\n",
       "    </tr>\n",
       "    <tr>\n",
       "      <th>population</th>\n",
       "      <td>16351.0</td>\n",
       "      <td>1.961215e+07</td>\n",
       "      <td>2.358858e+07</td>\n",
       "      <td>97928.000</td>\n",
       "      <td>3280815.000</td>\n",
       "      <td>9660350.000</td>\n",
       "      <td>2.913681e+07</td>\n",
       "      <td>1.023344e+08</td>\n",
       "    </tr>\n",
       "    <tr>\n",
       "      <th>aged_65_older_percent</th>\n",
       "      <td>16351.0</td>\n",
       "      <td>1.021501e+01</td>\n",
       "      <td>6.477061e+00</td>\n",
       "      <td>1.144</td>\n",
       "      <td>4.412</td>\n",
       "      <td>8.153</td>\n",
       "      <td>1.656900e+01</td>\n",
       "      <td>2.302100e+01</td>\n",
       "    </tr>\n",
       "    <tr>\n",
       "      <th>gdp_per_capita</th>\n",
       "      <td>16351.0</td>\n",
       "      <td>2.401950e+04</td>\n",
       "      <td>2.180439e+04</td>\n",
       "      <td>661.240</td>\n",
       "      <td>7611.994</td>\n",
       "      <td>16745.022</td>\n",
       "      <td>3.593837e+04</td>\n",
       "      <td>1.169356e+05</td>\n",
       "    </tr>\n",
       "    <tr>\n",
       "      <th>hospital_beds_per_thousand</th>\n",
       "      <td>16351.0</td>\n",
       "      <td>3.120990e+00</td>\n",
       "      <td>2.276615e+00</td>\n",
       "      <td>0.100</td>\n",
       "      <td>1.500</td>\n",
       "      <td>2.600</td>\n",
       "      <td>4.210000e+00</td>\n",
       "      <td>1.227000e+01</td>\n",
       "    </tr>\n",
       "  </tbody>\n",
       "</table>\n",
       "</div>"
      ],
      "text/plain": [
       "                              count          mean           std        min  \\\n",
       "new_cases                   16351.0  1.965567e+02  6.694133e+02      0.000   \n",
       "new_deaths                  16351.0  1.346120e+01  7.415979e+01      0.000   \n",
       "population                  16351.0  1.961215e+07  2.358858e+07  97928.000   \n",
       "aged_65_older_percent       16351.0  1.021501e+01  6.477061e+00      1.144   \n",
       "gdp_per_capita              16351.0  2.401950e+04  2.180439e+04    661.240   \n",
       "hospital_beds_per_thousand  16351.0  3.120990e+00  2.276615e+00      0.100   \n",
       "\n",
       "                                    25%          50%           75%  \\\n",
       "new_cases                         0.000        5.000  7.100000e+01   \n",
       "new_deaths                        0.000        0.000  2.000000e+00   \n",
       "population                  3280815.000  9660350.000  2.913681e+07   \n",
       "aged_65_older_percent             4.412        8.153  1.656900e+01   \n",
       "gdp_per_capita                 7611.994    16745.022  3.593837e+04   \n",
       "hospital_beds_per_thousand        1.500        2.600  4.210000e+00   \n",
       "\n",
       "                                     max  \n",
       "new_cases                   1.153600e+04  \n",
       "new_deaths                  2.004000e+03  \n",
       "population                  1.023344e+08  \n",
       "aged_65_older_percent       2.302100e+01  \n",
       "gdp_per_capita              1.169356e+05  \n",
       "hospital_beds_per_thousand  1.227000e+01  "
      ]
     },
     "execution_count": 146,
     "metadata": {},
     "output_type": "execute_result"
    }
   ],
   "source": [
    "# Drop missing values\n",
    "data.dropna(inplace = True)\n",
    "\n",
    "# Save New Numeric Dataset without outliers as Missing Values\n",
    "new_num_data = save_num_data(data, num_cols) # calls save_num_data function and stores output\n",
    "\n",
    "# Summary Statistics - New Numerical Variables without outliers\n",
    "new_num_data.describe().T"
   ]
  },
  {
   "cell_type": "code",
   "execution_count": 147,
   "metadata": {},
   "outputs": [
    {
     "data": {
      "image/png": "[encoded data removed]",
      "text/plain": [
       "<Figure size 432x288 with 1 Axes>"
      ]
     },
     "metadata": {
      "needs_background": "light"
     },
     "output_type": "display_data"
    },
    {
     "data": {
      "image/png": "[encoded data removed]",
      "text/plain": [
       "<Figure size 432x288 with 1 Axes>"
      ]
     },
     "metadata": {
      "needs_background": "light"
     },
     "output_type": "display_data"
    },
    {
     "data": {
      "image/png": "[encoded data removed]",
      "text/plain": [
       "<Figure size 432x288 with 1 Axes>"
      ]
     },
     "metadata": {
      "needs_background": "light"
     },
     "output_type": "display_data"
    },
    {
     "data": {
      "image/png": "[encoded data removed]",
      "text/plain": [
       "<Figure size 432x288 with 1 Axes>"
      ]
     },
     "metadata": {
      "needs_background": "light"
     },
     "output_type": "display_data"
    },
    {
     "data": {
      "image/png": "[encoded data removed]",
      "text/plain": [
       "<Figure size 432x288 with 1 Axes>"
      ]
     },
     "metadata": {
      "needs_background": "light"
     },
     "output_type": "display_data"
    },
    {
     "data": {
      "image/png": "[encoded data removed]",
      "text/plain": [
       "<Figure size 432x288 with 1 Axes>"
      ]
     },
     "metadata": {
      "needs_background": "light"
     },
     "output_type": "display_data"
    }
   ],
   "source": [
    "# Boxplots (after treating for outliers) - Numerical Variables\n",
    "box_plot(new_num_data)"
   ]
  },
  {
   "cell_type": "code",
   "execution_count": 148,
   "metadata": {},
   "outputs": [
    {
     "name": "stdout",
     "output_type": "stream",
     "text": [
      "Checking for missing values in the Cardio Base Dataset - Numerical Variables\n",
      "------------------------------------------------------------\n",
      "new_cases                     0\n",
      "new_deaths                    0\n",
      "population                    0\n",
      "aged_65_older_percent         0\n",
      "gdp_per_capita                0\n",
      "hospital_beds_per_thousand    0\n",
      "dtype: int64\n",
      "------------------------------------------------------------\n"
     ]
    }
   ],
   "source": [
    "# Check for missing values (after treating for outliers) - Numeric Variables\n",
    "missing_values(new_num_data) # calls missing values function"
   ]
  },
  {
   "cell_type": "markdown",
   "metadata": {},
   "source": [
    "## Questions"
   ]
  },
  {
   "cell_type": "markdown",
   "metadata": {},
   "source": [
    "### Question 09\n",
    "When did the difference in the total number of confirmed cases between Italy and Germany become more than 10 000?\n",
    "\n",
    "**ANSWER: 2020-03-12**\n"
   ]
  },
  {
   "cell_type": "code",
   "execution_count": 149,
   "metadata": {},
   "outputs": [
    {
     "name": "stdout",
     "output_type": "stream",
     "text": [
      "The date when the difference in the total number of confirmed cases between Italy and Germany become more than 10 000 is: 2020-03-12 00:00:00\n"
     ]
    }
   ],
   "source": [
    "# Create new Datasets with Italy and Germany\n",
    "data_q09_italy   = data[data['location'] == 'Italy']\n",
    "data_q09_germany = data[data['location'] == 'Germany']\n",
    "\n",
    "# Sort dataset by dates and locations\n",
    "data_q09_italy.sort_values(  by = ['date', 'location'], inplace = True, ascending = True)\n",
    "data_q09_germany.sort_values(by = ['date', 'location'], inplace = True, ascending = True)\n",
    "\n",
    "# Create Columns with Cumulative Sum of Total Number of Confirmed Cases\n",
    "data_q09_italy['cum_sum_new_cases']   = data_q09_italy['new_cases'].cumsum()\n",
    "data_q09_germany['cum_sum_new_cases'] = data_q09_germany['new_cases'].cumsum()\n",
    "\n",
    "# Merge Datasets on Date (inner join)\n",
    "data_italy_germany = data_q09_italy.merge(data_q09_germany, on = ['date'], how = 'inner')\n",
    "\n",
    "# Select only the columns we want \n",
    "data_italy_germany = data_italy_germany[['date', 'cum_sum_new_cases_x', 'cum_sum_new_cases_y']]\n",
    "\n",
    "# Create Columns with the absolute difference between total confirmed cases\n",
    "data_italy_germany['covid_diff'] = abs( data_italy_germany['cum_sum_new_cases_x'] - data_italy_germany['cum_sum_new_cases_y'])\n",
    "\n",
    "#Select the minimum value of the condition we want \n",
    "date_covid_dif = data_italy_germany['date'][data_italy_germany['covid_diff'] > 10000].min()\n",
    "print(\"The date when the difference in the total number of confirmed cases between Italy and Germany become more than 10 000 is: \" + str(date_covid_dif))\n"
   ]
  },
  {
   "cell_type": "markdown",
   "metadata": {},
   "source": [
    "### Question 10\n",
    "Look at the cumulative number of confirmed cases in Italy between 2020-02-28 and 2020-03-20. Fit an exponential function (y = Ae^(Bx)) to this set to express cumulative cases as a function of days passed, by minimizing squared loss. What is the difference between the exponential curve and the total number of real cases on 2020-03-20?\n",
    "\n",
    "**ANSWER: **\n"
   ]
  },
  {
   "cell_type": "markdown",
   "metadata": {},
   "source": [
    "### Question 11\n",
    "Which country has the 3rd highest death rate? Death rate: total number of death per million inhabitants.\n",
    "\n",
    "To compute the Death rate, I will use the mean of the population for each country.\n",
    "\n",
    "**ANSWER: United Kingdom (597 deaths per million inhabitants)**"
   ]
  },
  {
   "cell_type": "code",
   "execution_count": 239,
   "metadata": {},
   "outputs": [
    {
     "data": {
      "text/html": [
       "<div>\n",
       "<style scoped>\n",
       "    .dataframe tbody tr th:only-of-type {\n",
       "        vertical-align: middle;\n",
       "    }\n",
       "\n",
       "    .dataframe tbody tr th {\n",
       "        vertical-align: top;\n",
       "    }\n",
       "\n",
       "    .dataframe thead th {\n",
       "        text-align: right;\n",
       "    }\n",
       "</style>\n",
       "<table border=\"1\" class=\"dataframe\">\n",
       "  <thead>\n",
       "    <tr style=\"text-align: right;\">\n",
       "      <th></th>\n",
       "      <th>location</th>\n",
       "      <th>total_deaths</th>\n",
       "      <th>death_rate_per_million</th>\n",
       "    </tr>\n",
       "  </thead>\n",
       "  <tbody>\n",
       "    <tr>\n",
       "      <th>13</th>\n",
       "      <td>Belgium</td>\n",
       "      <td>9619.0</td>\n",
       "      <td>829.967102</td>\n",
       "    </tr>\n",
       "    <tr>\n",
       "      <th>118</th>\n",
       "      <td>Spain</td>\n",
       "      <td>28644.0</td>\n",
       "      <td>612.643203</td>\n",
       "    </tr>\n",
       "    <tr>\n",
       "      <th>136</th>\n",
       "      <td>United Kingdom</td>\n",
       "      <td>40520.0</td>\n",
       "      <td>596.882975</td>\n",
       "    </tr>\n",
       "  </tbody>\n",
       "</table>\n",
       "</div>"
      ],
      "text/plain": [
       "           location  total_deaths  death_rate_per_million\n",
       "13          Belgium        9619.0              829.967102\n",
       "118           Spain       28644.0              612.643203\n",
       "136  United Kingdom       40520.0              596.882975"
      ]
     },
     "execution_count": 239,
     "metadata": {},
     "output_type": "execute_result"
    }
   ],
   "source": [
    "# Create Series with Total Deaths\n",
    "df_loc_death = data.groupby('location')['new_deaths'].sum().to_frame(name = 'total_deaths').reset_index()\n",
    "df_loc_death.drop_duplicates(subset=['location', 'total_deaths'] , inplace=True)\n",
    "\n",
    "\n",
    "# Create dataframe with mean population per country\n",
    "df_pop_per_country = data.groupby('location')['population'].mean().reset_index()\n",
    "\n",
    "\n",
    "# Create Final Dataframe\n",
    "data_q11 = df_loc_death\n",
    "data_q11['death_rate_per_million'] = 1000000 * df_loc_death['total_deaths']/df_pop_per_country['population']\n",
    "\n",
    "# Get answer\n",
    "data_q11.sort_values(by = ['death_rate_per_million'], inplace = True, ascending = False)\n",
    "data_q11.head(3)"
   ]
  },
  {
   "cell_type": "markdown",
   "metadata": {},
   "source": [
    "### Question 12\n",
    "What is the F1 score of the following statement: Countries, where more than 20% of the population is over 65 years old, have death rates over 50 per million inhabitants. Ignore countries, where any of the necessary information is missing!\n",
    "\n",
    "**ANSWER: **\n"
   ]
  },
  {
   "cell_type": "markdown",
   "metadata": {},
   "source": [
    "### Question 13\n",
    "What is the probability that a country has GDP over $10 000, if we know that they have at least 5 hospital beds per 1000 inhabitants.\n",
    "\n",
    "**ANSWER: 91%**\n"
   ]
  },
  {
   "cell_type": "code",
   "execution_count": 259,
   "metadata": {},
   "outputs": [
    {
     "data": {
      "text/plain": [
       "0.910300136425648"
      ]
     },
     "execution_count": 259,
     "metadata": {},
     "output_type": "execute_result"
    }
   ],
   "source": [
    "# Create the subset we want\n",
    "data_q13 = data[['gdp_per_capita','hospital_beds_per_thousand']]\n",
    "data_q13 = data_q13[data_q13['hospital_beds_per_thousand'] >= 5]\n",
    "\n",
    "# Calculate the Probabiilty\n",
    "data_q13['gdp_per_capita'][data_q13.gdp_per_capita > 10000].count() / data_q13.gdp_per_capita.count()\n",
    "\n",
    "# sum = data_q13['gdp_per_capita'][data_q13.gdp_per_capita > 10000].sum()\n",
    "# count = data_q13.gdp_per_capita.count()\n",
    "# answer_q13 = sum/count\n",
    "# answer_q13"
   ]
  }
 ],
 "metadata": {
  "interpreter": {
   "hash": "ac7dd041828cf56631353191c608ccde6a0be02c5ac588a2993150c1410b91d4"
  },
  "kernelspec": {
   "display_name": "Python 3.9.7 ('base')",
   "language": "python",
   "name": "python3"
  },
  "language_info": {
   "codemirror_mode": {
    "name": "ipython",
    "version": 3
   },
   "file_extension": ".py",
   "mimetype": "text/x-python",
   "name": "python",
   "nbconvert_exporter": "python",
   "pygments_lexer": "ipython3",
   "version": "3.9.7"
  },
  "orig_nbformat": 4
 },
 "nbformat": 4,
 "nbformat_minor": 2
}
