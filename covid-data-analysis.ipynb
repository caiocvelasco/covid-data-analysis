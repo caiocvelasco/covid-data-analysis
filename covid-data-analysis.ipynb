{
 "cells": [
  {
   "cell_type": "markdown",
   "metadata": {},
   "source": [
    "# Covid Data Analysis"
   ]
  },
  {
   "cell_type": "markdown",
   "metadata": {},
   "source": [
    "## Contents\n",
    "\n",
    "* About\n",
    "    * Project Development\n",
    "    * Problem Definition\n",
    "    * Objective\n",
    "* Data\n",
    "    * Libraries\n",
    "    * Importing\n",
    "    * Variables\n",
    "    * Important Definitions\n",
    "* Exploratory Data Analysis (EDA)\n",
    "    * Plotting Objectives\n",
    "    * Functions\n",
    "    * Shape and Size\n",
    "    * Types\n",
    "    * Unique Values\n",
    "    * Missing Values\n",
    "    * Units Conversion\n",
    "    * Numeric and Categorical Variables\n",
    "        * Numeric Variables (both Continuous and Discrete)\n",
    "            * Summary statistics\n",
    "            * Probability Distribution\n",
    "            * Outliers Detection and Treatment & Inconsistencies\n",
    "        * Categorical Variables\n",
    "            * Bar Plots\n",
    "    * Correlation Matrix Heatmap\n",
    "* Questions"
   ]
  },
  {
   "cell_type": "markdown",
   "metadata": {},
   "source": [
    "## About\n",
    "\n",
    "### Project Development\n",
    "This project was developed locally with Visual Studio Code and GitHub version control.\n",
    "\n",
    "Please check this project @ [GitHub page](https://caiocvelasco.github.io/) or @ [GitHub Repository - Cardio Data Analysis](https://github.com/caiocvelasco/health-data-analysis/blob/a4fafbcd8148a6d501f42a10ae9d313fc3b268e1/cardio-data-analysis-project.ipynb).\n",
    "\n",
    "### Problem Definition\n",
    "\n",
    "A client would like to understand some important patients' covid-related descriptive statistics.\n",
    "\n",
    "### Objective\n",
    "Our goal is to calculate some descriptive statistics."
   ]
  },
  {
   "cell_type": "markdown",
   "metadata": {},
   "source": [
    "## Data\n",
    "Data was already available on a _csv_ format.\n",
    "\n",
    "### Libraries"
   ]
  },
  {
   "cell_type": "code",
   "execution_count": 44,
   "metadata": {},
   "outputs": [],
   "source": [
    "# !pip install seaborn pandas matplotlib numpy\n",
    "import pandas as pd              # for data analysis\n",
    "import numpy as np               # for scientific computing\n",
    "import scipy                     # for scientific computing\n",
    "import scipy.stats as stats      # for scientific computing\n",
    "\n",
    "import os                        # for file interactions in the user's operating system\n",
    "import warnings                  # for dealing with warning messages if need be\n",
    "warnings.filterwarnings('ignore')\n",
    "\n",
    "import matplotlib.pyplot as plt  # for data visualization\n",
    "import seaborn as sns            # for data visualization"
   ]
  },
  {
   "cell_type": "markdown",
   "metadata": {},
   "source": [
    "### Importing"
   ]
  },
  {
   "cell_type": "code",
   "execution_count": 45,
   "metadata": {},
   "outputs": [
    {
     "data": {
      "text/html": [
       "<div>\n",
       "<style scoped>\n",
       "    .dataframe tbody tr th:only-of-type {\n",
       "        vertical-align: middle;\n",
       "    }\n",
       "\n",
       "    .dataframe tbody tr th {\n",
       "        vertical-align: top;\n",
       "    }\n",
       "\n",
       "    .dataframe thead th {\n",
       "        text-align: right;\n",
       "    }\n",
       "</style>\n",
       "<table border=\"1\" class=\"dataframe\">\n",
       "  <thead>\n",
       "    <tr style=\"text-align: right;\">\n",
       "      <th></th>\n",
       "      <th>0</th>\n",
       "      <th>1</th>\n",
       "      <th>2</th>\n",
       "      <th>3</th>\n",
       "      <th>4</th>\n",
       "    </tr>\n",
       "  </thead>\n",
       "  <tbody>\n",
       "    <tr>\n",
       "      <th>location</th>\n",
       "      <td>Afghanistan</td>\n",
       "      <td>Afghanistan</td>\n",
       "      <td>Afghanistan</td>\n",
       "      <td>Afghanistan</td>\n",
       "      <td>Afghanistan</td>\n",
       "    </tr>\n",
       "    <tr>\n",
       "      <th>date</th>\n",
       "      <td>2019-12-31 00:00:00</td>\n",
       "      <td>2020-01-01 00:00:00</td>\n",
       "      <td>2020-01-02 00:00:00</td>\n",
       "      <td>2020-01-03 00:00:00</td>\n",
       "      <td>2020-01-04 00:00:00</td>\n",
       "    </tr>\n",
       "    <tr>\n",
       "      <th>new_cases</th>\n",
       "      <td>0</td>\n",
       "      <td>0</td>\n",
       "      <td>0</td>\n",
       "      <td>0</td>\n",
       "      <td>0</td>\n",
       "    </tr>\n",
       "    <tr>\n",
       "      <th>new_deaths</th>\n",
       "      <td>0</td>\n",
       "      <td>0</td>\n",
       "      <td>0</td>\n",
       "      <td>0</td>\n",
       "      <td>0</td>\n",
       "    </tr>\n",
       "    <tr>\n",
       "      <th>population</th>\n",
       "      <td>38928341.0</td>\n",
       "      <td>38928341.0</td>\n",
       "      <td>38928341.0</td>\n",
       "      <td>38928341.0</td>\n",
       "      <td>38928341.0</td>\n",
       "    </tr>\n",
       "    <tr>\n",
       "      <th>aged_65_older_percent</th>\n",
       "      <td>2.581</td>\n",
       "      <td>2.581</td>\n",
       "      <td>2.581</td>\n",
       "      <td>2.581</td>\n",
       "      <td>2.581</td>\n",
       "    </tr>\n",
       "    <tr>\n",
       "      <th>gdp_per_capita</th>\n",
       "      <td>1803.987</td>\n",
       "      <td>1803.987</td>\n",
       "      <td>1803.987</td>\n",
       "      <td>1803.987</td>\n",
       "      <td>1803.987</td>\n",
       "    </tr>\n",
       "    <tr>\n",
       "      <th>hospital_beds_per_thousand</th>\n",
       "      <td>0.5</td>\n",
       "      <td>0.5</td>\n",
       "      <td>0.5</td>\n",
       "      <td>0.5</td>\n",
       "      <td>0.5</td>\n",
       "    </tr>\n",
       "  </tbody>\n",
       "</table>\n",
       "</div>"
      ],
      "text/plain": [
       "                                              0                    1  \\\n",
       "location                            Afghanistan          Afghanistan   \n",
       "date                        2019-12-31 00:00:00  2020-01-01 00:00:00   \n",
       "new_cases                                     0                    0   \n",
       "new_deaths                                    0                    0   \n",
       "population                           38928341.0           38928341.0   \n",
       "aged_65_older_percent                     2.581                2.581   \n",
       "gdp_per_capita                         1803.987             1803.987   \n",
       "hospital_beds_per_thousand                  0.5                  0.5   \n",
       "\n",
       "                                              2                    3  \\\n",
       "location                            Afghanistan          Afghanistan   \n",
       "date                        2020-01-02 00:00:00  2020-01-03 00:00:00   \n",
       "new_cases                                     0                    0   \n",
       "new_deaths                                    0                    0   \n",
       "population                           38928341.0           38928341.0   \n",
       "aged_65_older_percent                     2.581                2.581   \n",
       "gdp_per_capita                         1803.987             1803.987   \n",
       "hospital_beds_per_thousand                  0.5                  0.5   \n",
       "\n",
       "                                              4  \n",
       "location                            Afghanistan  \n",
       "date                        2020-01-04 00:00:00  \n",
       "new_cases                                     0  \n",
       "new_deaths                                    0  \n",
       "population                           38928341.0  \n",
       "aged_65_older_percent                     2.581  \n",
       "gdp_per_capita                         1803.987  \n",
       "hospital_beds_per_thousand                  0.5  "
      ]
     },
     "execution_count": 45,
     "metadata": {},
     "output_type": "execute_result"
    }
   ],
   "source": [
    "# Basic Settings\n",
    "csv_folder_name = \"health_dataset\"  # please, change the folder name (where the CSV files are stored) if need be\n",
    "notebook_location = \"C:\\\\Users\\\\caiov\\\\OneDrive - UCLA IT Services\\\\Documentos\\\\DataScience\\\\Datasets\" # set the location where this notebook is saved\n",
    "csv_folder_path = notebook_location + \"\\\\\" + csv_folder_name  # set path for the CSV files\n",
    "os.chdir(csv_folder_path)                                     # set location of CSV files\n",
    "\n",
    "# Save CVSs Data on a Pandas Dataframe and Parse Date Column\n",
    "df_covid_data = pd.read_csv(\"covid_data.csv\", sep = \",\", skipinitialspace = True, parse_dates = [\"date\"]) #skip space after delimiter if need be\n",
    "\n",
    "# Save a Copy of the Dataframe\n",
    "data     = df_covid_data.copy()\n",
    "\n",
    "# Dataset Manipulation\n",
    "data.name = \"Covid Dataset\" # rename the dataset\n",
    "cols      = data.columns;              # create an index list with feature names\n",
    "\n",
    "# Quick Overview of a Sample from the Data\n",
    "pd.set_option('display.max_columns', None) # changing the max_columns value\n",
    "data.head().T"
   ]
  },
  {
   "cell_type": "code",
   "execution_count": 46,
   "metadata": {},
   "outputs": [
    {
     "name": "stdout",
     "output_type": "stream",
     "text": [
      "<class 'pandas.core.frame.DataFrame'>\n",
      "RangeIndex: 23082 entries, 0 to 23081\n",
      "Data columns (total 8 columns):\n",
      " #   Column                      Non-Null Count  Dtype         \n",
      "---  ------                      --------------  -----         \n",
      " 0   location                    23082 non-null  object        \n",
      " 1   date                        23082 non-null  datetime64[ns]\n",
      " 2   new_cases                   23082 non-null  int64         \n",
      " 3   new_deaths                  23082 non-null  int64         \n",
      " 4   population                  23018 non-null  float64       \n",
      " 5   aged_65_older_percent       20643 non-null  float64       \n",
      " 6   gdp_per_capita              20711 non-null  float64       \n",
      " 7   hospital_beds_per_thousand  19144 non-null  float64       \n",
      "dtypes: datetime64[ns](1), float64(4), int64(2), object(1)\n",
      "memory usage: 1.4+ MB\n"
     ]
    }
   ],
   "source": [
    "data.info()"
   ]
  },
  {
   "cell_type": "markdown",
   "metadata": {},
   "source": [
    "### Variables"
   ]
  },
  {
   "cell_type": "code",
   "execution_count": 47,
   "metadata": {},
   "outputs": [],
   "source": [
    "# Store the relevant Categorical Variables for analysis on a list\n",
    "## There is no categorical variables.\n",
    "\n",
    "# Store the relevant Numeric Variables for analysis on a list\n",
    "num_cols = ['new_cases', 'new_deaths', 'population', 'aged_65_older_percent', 'gdp_per_capita', 'hospital_beds_per_thousand']     \n"
   ]
  },
  {
   "cell_type": "markdown",
   "metadata": {},
   "source": [
    "## Exploratory Data Analysis (EDA)"
   ]
  },
  {
   "cell_type": "markdown",
   "metadata": {},
   "source": [
    "### Plotting Objectives\n",
    "Before diving into the EDA, it is good to have a clear goal in mind. Our goal is to calculate some descriptive statistics.\n",
    "\n",
    "Given our goal, the following points should help explore and visualize data accordingly:\n",
    " * Check features and their distributions, unidimensionally.\n",
    " * Check correlation between features, bidimensionally."
   ]
  },
  {
   "cell_type": "markdown",
   "metadata": {},
   "source": [
    "### Defining Functions for EDA"
   ]
  },
  {
   "cell_type": "code",
   "execution_count": 48,
   "metadata": {},
   "outputs": [],
   "source": [
    "### DATA ANALYSIS PART ###\n",
    "\n",
    "# Checking Shape\n",
    "def data_shape(data):\n",
    "    print(\"Dataset shape: \" + str(data.shape[0]) + \" observations and \" + str(data.shape[1]) + \" features.\")\n",
    "\n",
    "# Check Size\n",
    "def data_size(data):\n",
    "    print(\"This dataset has a total of: \" + str(data.size) + \" entries.\")\n",
    "\n",
    "# Check Information\n",
    "def data_info(data):\n",
    "    print(data.name)\n",
    "    print(\"--------------------------------------\")\n",
    "    data.info()\n",
    "    print(\"--------------------------------------\")  \n",
    "\n",
    "# Check for Duplicates\n",
    "def duplicated_rows(data):\n",
    "    print(\"There are: \" + str(data.duplicated(keep='first').sum()) + \" duplicated observations (not including first unique ocurrence).\")\n",
    "\n",
    "# Check for Missing Values\n",
    "def missing_values(data):\n",
    "    print('Checking for missing values in the', data.name) # data.name has been defined previously in the \"Importing\" section\n",
    "    print('------------------------------------------------------------')\n",
    "    print(data.isna().sum())\n",
    "    print('------------------------------------------------------------')\n",
    "\n",
    "# Save Data - Numeric & Continuous Variables\n",
    "def save_num_data(data, columns_list):\n",
    "    num_data = data[columns_list]\n",
    "    num_data.name = \"Cardio Base Dataset - Numerical Variables\" # rename the dataset\n",
    "    return num_data\n",
    "\n",
    "# IQR Method - Detecting Outliers\n",
    "def iqr_method(potential_outliers, data): #arg 1 takes list of features with potential outliers, arg2 \n",
    "    i = 1\n",
    "    for col in potential_outliers:\n",
    "        Q1 = data[col].quantile(0.25)\n",
    "        Q3 = data[col].quantile(0.75)\n",
    "        IQR = Q3 - Q1\n",
    "        print(f'column {i}: {data[col].name}\\n------------------------')\n",
    "        print('1st quantile => ',Q1)\n",
    "        print('3rd quantile => ',Q3)\n",
    "        print('IQR =>',IQR)\n",
    "\n",
    "        lower_bound  = Q1-(1.5*IQR)\n",
    "        print('lower_bound => ' + str(lower_bound))\n",
    "\n",
    "        upper_bound = Q3+(1.5*IQR)\n",
    "        print('upper_bound => ' + str(upper_bound))\n",
    "        print(\"\\n------------------------\")\n",
    "        \n",
    "        i = i + 1\n",
    "\n",
    "        data[col][(data[col] < lower_bound) | (data[col] > upper_bound)] = np.nan  # replacing outliers with NaN\n",
    "\n",
    "# Outliers Method - For Numerical Variables\n",
    "def bound_method(data):\n",
    "    for col in data:\n",
    "        data[col][ (data[col] > data[col].quantile(0.975)) | (data[col] < data[col].quantile(0.025))] = np.nan  # replacing outliers with NaN\n",
    "\n",
    "### VISUALIZATION PART ###\n",
    "\n",
    "# Plot Probability Distributions - Continuous Variables\n",
    "def pdf_plot_cont(data):\n",
    "    for i in data:\n",
    "        ax = sns.displot(data[i], kind=\"kde\")\n",
    "        plt.show()\n",
    "\n",
    "# Plot Box Plots - Continuous Variables with Groups\n",
    "def box_plot(data): # the first argument takes a list of features and the second the dataset\n",
    "    for i in data:\n",
    "        ax = sns.boxplot(x = data[i], orient = 'h')\n",
    "        plt.show()"
   ]
  },
  {
   "cell_type": "markdown",
   "metadata": {},
   "source": [
    "### Shape and Size"
   ]
  },
  {
   "cell_type": "code",
   "execution_count": 49,
   "metadata": {},
   "outputs": [
    {
     "name": "stdout",
     "output_type": "stream",
     "text": [
      "Dataset shape: 23082 observations and 8 features.\n",
      "This dataset has a total of: 184656 entries.\n"
     ]
    }
   ],
   "source": [
    "# Check Shape and Size\n",
    "data_shape(data) # calls shape function\n",
    "data_size(data)  # calls size function"
   ]
  },
  {
   "cell_type": "markdown",
   "metadata": {},
   "source": [
    "### Types"
   ]
  },
  {
   "cell_type": "code",
   "execution_count": 50,
   "metadata": {},
   "outputs": [
    {
     "name": "stdout",
     "output_type": "stream",
     "text": [
      "Covid Dataset\n",
      "--------------------------------------\n",
      "<class 'pandas.core.frame.DataFrame'>\n",
      "RangeIndex: 23082 entries, 0 to 23081\n",
      "Data columns (total 8 columns):\n",
      " #   Column                      Non-Null Count  Dtype         \n",
      "---  ------                      --------------  -----         \n",
      " 0   location                    23082 non-null  object        \n",
      " 1   date                        23082 non-null  datetime64[ns]\n",
      " 2   new_cases                   23082 non-null  int64         \n",
      " 3   new_deaths                  23082 non-null  int64         \n",
      " 4   population                  23018 non-null  float64       \n",
      " 5   aged_65_older_percent       20643 non-null  float64       \n",
      " 6   gdp_per_capita              20711 non-null  float64       \n",
      " 7   hospital_beds_per_thousand  19144 non-null  float64       \n",
      "dtypes: datetime64[ns](1), float64(4), int64(2), object(1)\n",
      "memory usage: 1.4+ MB\n",
      "--------------------------------------\n"
     ]
    }
   ],
   "source": [
    "# Check Data Type\n",
    "data_info(data) # calls info function"
   ]
  },
  {
   "cell_type": "markdown",
   "metadata": {},
   "source": [
    "All features have the expected type."
   ]
  },
  {
   "cell_type": "markdown",
   "metadata": {},
   "source": [
    "### Duplicated Values\n",
    "Let's check for duplicated observations."
   ]
  },
  {
   "cell_type": "code",
   "execution_count": 51,
   "metadata": {},
   "outputs": [
    {
     "name": "stdout",
     "output_type": "stream",
     "text": [
      "There are: 0 duplicated observations (not including first unique ocurrence).\n"
     ]
    }
   ],
   "source": [
    "# Check for duplicates\n",
    "duplicated_rows(data)"
   ]
  },
  {
   "cell_type": "markdown",
   "metadata": {},
   "source": [
    "### Missing Values"
   ]
  },
  {
   "cell_type": "code",
   "execution_count": 52,
   "metadata": {},
   "outputs": [
    {
     "name": "stdout",
     "output_type": "stream",
     "text": [
      "<class 'pandas.core.frame.DataFrame'>\n",
      "RangeIndex: 23082 entries, 0 to 23081\n",
      "Data columns (total 8 columns):\n",
      " #   Column                      Non-Null Count  Dtype         \n",
      "---  ------                      --------------  -----         \n",
      " 0   location                    23082 non-null  object        \n",
      " 1   date                        23082 non-null  datetime64[ns]\n",
      " 2   new_cases                   23082 non-null  int64         \n",
      " 3   new_deaths                  23082 non-null  int64         \n",
      " 4   population                  23018 non-null  float64       \n",
      " 5   aged_65_older_percent       20643 non-null  float64       \n",
      " 6   gdp_per_capita              20711 non-null  float64       \n",
      " 7   hospital_beds_per_thousand  19144 non-null  float64       \n",
      "dtypes: datetime64[ns](1), float64(4), int64(2), object(1)\n",
      "memory usage: 1.4+ MB\n"
     ]
    }
   ],
   "source": [
    "data.info()"
   ]
  },
  {
   "cell_type": "markdown",
   "metadata": {},
   "source": [
    "In this dataset, there seem to be some missing values in the N/A format."
   ]
  },
  {
   "cell_type": "code",
   "execution_count": 53,
   "metadata": {},
   "outputs": [
    {
     "name": "stdout",
     "output_type": "stream",
     "text": [
      "Checking for missing values in the Covid Dataset\n",
      "------------------------------------------------------------\n",
      "location                         0\n",
      "date                             0\n",
      "new_cases                        0\n",
      "new_deaths                       0\n",
      "population                      64\n",
      "aged_65_older_percent         2439\n",
      "gdp_per_capita                2371\n",
      "hospital_beds_per_thousand    3938\n",
      "dtype: int64\n",
      "------------------------------------------------------------\n"
     ]
    }
   ],
   "source": [
    "# Check for missing values (before treating for outliers)\n",
    "missing_values(data) # calls missing values function"
   ]
  },
  {
   "cell_type": "code",
   "execution_count": 54,
   "metadata": {},
   "outputs": [
    {
     "name": "stdout",
     "output_type": "stream",
     "text": [
      "Checking for missing values in the Covid Dataset\n",
      "------------------------------------------------------------\n",
      "location                      0\n",
      "date                          0\n",
      "new_cases                     0\n",
      "new_deaths                    0\n",
      "population                    0\n",
      "aged_65_older_percent         0\n",
      "gdp_per_capita                0\n",
      "hospital_beds_per_thousand    0\n",
      "dtype: int64\n",
      "------------------------------------------------------------\n"
     ]
    }
   ],
   "source": [
    "# Drop missing values\n",
    "data.dropna(inplace = True)\n",
    "\n",
    "# Check for missing values (before treating for outliers)\n",
    "missing_values(data) # calls missing values function"
   ]
  },
  {
   "cell_type": "code",
   "execution_count": 55,
   "metadata": {},
   "outputs": [
    {
     "name": "stdout",
     "output_type": "stream",
     "text": [
      "<class 'pandas.core.frame.DataFrame'>\n",
      "Int64Index: 18328 entries, 0 to 23017\n",
      "Data columns (total 8 columns):\n",
      " #   Column                      Non-Null Count  Dtype         \n",
      "---  ------                      --------------  -----         \n",
      " 0   location                    18328 non-null  object        \n",
      " 1   date                        18328 non-null  datetime64[ns]\n",
      " 2   new_cases                   18328 non-null  int64         \n",
      " 3   new_deaths                  18328 non-null  int64         \n",
      " 4   population                  18328 non-null  float64       \n",
      " 5   aged_65_older_percent       18328 non-null  float64       \n",
      " 6   gdp_per_capita              18328 non-null  float64       \n",
      " 7   hospital_beds_per_thousand  18328 non-null  float64       \n",
      "dtypes: datetime64[ns](1), float64(4), int64(2), object(1)\n",
      "memory usage: 1.3+ MB\n"
     ]
    }
   ],
   "source": [
    "data.info()"
   ]
  },
  {
   "cell_type": "markdown",
   "metadata": {},
   "source": [
    "### Numeric Variables"
   ]
  },
  {
   "cell_type": "code",
   "execution_count": 56,
   "metadata": {},
   "outputs": [
    {
     "data": {
      "text/html": [
       "<div>\n",
       "<style scoped>\n",
       "    .dataframe tbody tr th:only-of-type {\n",
       "        vertical-align: middle;\n",
       "    }\n",
       "\n",
       "    .dataframe tbody tr th {\n",
       "        vertical-align: top;\n",
       "    }\n",
       "\n",
       "    .dataframe thead th {\n",
       "        text-align: right;\n",
       "    }\n",
       "</style>\n",
       "<table border=\"1\" class=\"dataframe\">\n",
       "  <thead>\n",
       "    <tr style=\"text-align: right;\">\n",
       "      <th></th>\n",
       "      <th>new_cases</th>\n",
       "      <th>new_deaths</th>\n",
       "      <th>population</th>\n",
       "      <th>aged_65_older_percent</th>\n",
       "      <th>gdp_per_capita</th>\n",
       "      <th>hospital_beds_per_thousand</th>\n",
       "    </tr>\n",
       "  </thead>\n",
       "  <tbody>\n",
       "    <tr>\n",
       "      <th>6361</th>\n",
       "      <td>54</td>\n",
       "      <td>5</td>\n",
       "      <td>102334403.0</td>\n",
       "      <td>5.159</td>\n",
       "      <td>10550.206</td>\n",
       "      <td>1.60</td>\n",
       "    </tr>\n",
       "    <tr>\n",
       "      <th>2024</th>\n",
       "      <td>0</td>\n",
       "      <td>0</td>\n",
       "      <td>9449321.0</td>\n",
       "      <td>14.799</td>\n",
       "      <td>17167.967</td>\n",
       "      <td>11.00</td>\n",
       "    </tr>\n",
       "    <tr>\n",
       "      <th>12543</th>\n",
       "      <td>4</td>\n",
       "      <td>0</td>\n",
       "      <td>2722291.0</td>\n",
       "      <td>19.002</td>\n",
       "      <td>29524.265</td>\n",
       "      <td>6.56</td>\n",
       "    </tr>\n",
       "    <tr>\n",
       "      <th>3955</th>\n",
       "      <td>1</td>\n",
       "      <td>0</td>\n",
       "      <td>555988.0</td>\n",
       "      <td>4.460</td>\n",
       "      <td>6222.554</td>\n",
       "      <td>2.10</td>\n",
       "    </tr>\n",
       "    <tr>\n",
       "      <th>3413</th>\n",
       "      <td>30</td>\n",
       "      <td>4</td>\n",
       "      <td>20903278.0</td>\n",
       "      <td>2.409</td>\n",
       "      <td>1703.102</td>\n",
       "      <td>0.40</td>\n",
       "    </tr>\n",
       "  </tbody>\n",
       "</table>\n",
       "</div>"
      ],
      "text/plain": [
       "       new_cases  new_deaths   population  aged_65_older_percent  \\\n",
       "6361          54           5  102334403.0                  5.159   \n",
       "2024           0           0    9449321.0                 14.799   \n",
       "12543          4           0    2722291.0                 19.002   \n",
       "3955           1           0     555988.0                  4.460   \n",
       "3413          30           4   20903278.0                  2.409   \n",
       "\n",
       "       gdp_per_capita  hospital_beds_per_thousand  \n",
       "6361        10550.206                        1.60  \n",
       "2024        17167.967                       11.00  \n",
       "12543       29524.265                        6.56  \n",
       "3955         6222.554                        2.10  \n",
       "3413         1703.102                        0.40  "
      ]
     },
     "execution_count": 56,
     "metadata": {},
     "output_type": "execute_result"
    }
   ],
   "source": [
    "# Save numeric dataset into a new dataset for later use\n",
    "num_data = save_num_data(data, num_cols) # calls save_num_data function and stores output\n",
    "\n",
    "# Quick Overview\n",
    "num_data.sample(5)"
   ]
  },
  {
   "cell_type": "markdown",
   "metadata": {},
   "source": [
    "#### Summary Statistics"
   ]
  },
  {
   "cell_type": "code",
   "execution_count": 57,
   "metadata": {},
   "outputs": [
    {
     "data": {
      "text/html": [
       "<div>\n",
       "<style scoped>\n",
       "    .dataframe tbody tr th:only-of-type {\n",
       "        vertical-align: middle;\n",
       "    }\n",
       "\n",
       "    .dataframe tbody tr th {\n",
       "        vertical-align: top;\n",
       "    }\n",
       "\n",
       "    .dataframe thead th {\n",
       "        text-align: right;\n",
       "    }\n",
       "</style>\n",
       "<table border=\"1\" class=\"dataframe\">\n",
       "  <thead>\n",
       "    <tr style=\"text-align: right;\">\n",
       "      <th></th>\n",
       "      <th>count</th>\n",
       "      <th>mean</th>\n",
       "      <th>std</th>\n",
       "      <th>min</th>\n",
       "      <th>25%</th>\n",
       "      <th>50%</th>\n",
       "      <th>75%</th>\n",
       "      <th>max</th>\n",
       "    </tr>\n",
       "  </thead>\n",
       "  <tbody>\n",
       "    <tr>\n",
       "      <th>new_cases</th>\n",
       "      <td>18328.0</td>\n",
       "      <td>7.839579e+02</td>\n",
       "      <td>6.181713e+03</td>\n",
       "      <td>-2461.000</td>\n",
       "      <td>0.000</td>\n",
       "      <td>6.000000e+00</td>\n",
       "      <td>9.800000e+01</td>\n",
       "      <td>1.335100e+05</td>\n",
       "    </tr>\n",
       "    <tr>\n",
       "      <th>new_deaths</th>\n",
       "      <td>18328.0</td>\n",
       "      <td>4.479578e+01</td>\n",
       "      <td>3.708932e+02</td>\n",
       "      <td>-1918.000</td>\n",
       "      <td>0.000</td>\n",
       "      <td>0.000000e+00</td>\n",
       "      <td>2.000000e+00</td>\n",
       "      <td>1.052000e+04</td>\n",
       "    </tr>\n",
       "    <tr>\n",
       "      <th>population</th>\n",
       "      <td>18328.0</td>\n",
       "      <td>1.268742e+08</td>\n",
       "      <td>7.507452e+08</td>\n",
       "      <td>97928.000</td>\n",
       "      <td>4105268.000</td>\n",
       "      <td>1.070898e+07</td>\n",
       "      <td>4.373376e+07</td>\n",
       "      <td>7.794799e+09</td>\n",
       "    </tr>\n",
       "    <tr>\n",
       "      <th>aged_65_older_percent</th>\n",
       "      <td>18328.0</td>\n",
       "      <td>1.015759e+01</td>\n",
       "      <td>6.462850e+00</td>\n",
       "      <td>1.144</td>\n",
       "      <td>4.469</td>\n",
       "      <td>8.153000e+00</td>\n",
       "      <td>1.541300e+01</td>\n",
       "      <td>2.704900e+01</td>\n",
       "    </tr>\n",
       "    <tr>\n",
       "      <th>gdp_per_capita</th>\n",
       "      <td>18328.0</td>\n",
       "      <td>2.333448e+04</td>\n",
       "      <td>2.123214e+04</td>\n",
       "      <td>661.240</td>\n",
       "      <td>7485.013</td>\n",
       "      <td>1.627767e+04</td>\n",
       "      <td>3.522008e+04</td>\n",
       "      <td>1.169356e+05</td>\n",
       "    </tr>\n",
       "    <tr>\n",
       "      <th>hospital_beds_per_thousand</th>\n",
       "      <td>18328.0</td>\n",
       "      <td>3.126064e+00</td>\n",
       "      <td>2.455111e+00</td>\n",
       "      <td>0.100</td>\n",
       "      <td>1.380</td>\n",
       "      <td>2.600000e+00</td>\n",
       "      <td>4.210000e+00</td>\n",
       "      <td>1.305000e+01</td>\n",
       "    </tr>\n",
       "  </tbody>\n",
       "</table>\n",
       "</div>"
      ],
      "text/plain": [
       "                              count          mean           std        min  \\\n",
       "new_cases                   18328.0  7.839579e+02  6.181713e+03  -2461.000   \n",
       "new_deaths                  18328.0  4.479578e+01  3.708932e+02  -1918.000   \n",
       "population                  18328.0  1.268742e+08  7.507452e+08  97928.000   \n",
       "aged_65_older_percent       18328.0  1.015759e+01  6.462850e+00      1.144   \n",
       "gdp_per_capita              18328.0  2.333448e+04  2.123214e+04    661.240   \n",
       "hospital_beds_per_thousand  18328.0  3.126064e+00  2.455111e+00      0.100   \n",
       "\n",
       "                                    25%           50%           75%  \\\n",
       "new_cases                         0.000  6.000000e+00  9.800000e+01   \n",
       "new_deaths                        0.000  0.000000e+00  2.000000e+00   \n",
       "population                  4105268.000  1.070898e+07  4.373376e+07   \n",
       "aged_65_older_percent             4.469  8.153000e+00  1.541300e+01   \n",
       "gdp_per_capita                 7485.013  1.627767e+04  3.522008e+04   \n",
       "hospital_beds_per_thousand        1.380  2.600000e+00  4.210000e+00   \n",
       "\n",
       "                                     max  \n",
       "new_cases                   1.335100e+05  \n",
       "new_deaths                  1.052000e+04  \n",
       "population                  7.794799e+09  \n",
       "aged_65_older_percent       2.704900e+01  \n",
       "gdp_per_capita              1.169356e+05  \n",
       "hospital_beds_per_thousand  1.305000e+01  "
      ]
     },
     "execution_count": 57,
     "metadata": {},
     "output_type": "execute_result"
    }
   ],
   "source": [
    "# Summary Statistics - Numerical Variables\n",
    "num_data.describe().T"
   ]
  },
  {
   "cell_type": "markdown",
   "metadata": {},
   "source": [
    "#### Probability Distributions"
   ]
  },
  {
   "cell_type": "code",
   "execution_count": 58,
   "metadata": {},
   "outputs": [
    {
     "data": {
      "image/png": "[encoded data removed]",
      "text/plain": [
       "<Figure size 360x360 with 1 Axes>"
      ]
     },
     "metadata": {
      "needs_background": "light"
     },
     "output_type": "display_data"
    },
    {
     "data": {
      "image/png": "[encoded data removed]",
      "text/plain": [
       "<Figure size 360x360 with 1 Axes>"
      ]
     },
     "metadata": {
      "needs_background": "light"
     },
     "output_type": "display_data"
    },
    {
     "data": {
      "image/png": "[encoded data removed]",
      "text/plain": [
       "<Figure size 360x360 with 1 Axes>"
      ]
     },
     "metadata": {
      "needs_background": "light"
     },
     "output_type": "display_data"
    },
    {
     "data": {
      "image/png": "[encoded data removed]",
      "text/plain": [
       "<Figure size 360x360 with 1 Axes>"
      ]
     },
     "metadata": {
      "needs_background": "light"
     },
     "output_type": "display_data"
    },
    {
     "data": {
      "image/png": "[encoded data removed]",
      "text/plain": [
       "<Figure size 360x360 with 1 Axes>"
      ]
     },
     "metadata": {
      "needs_background": "light"
     },
     "output_type": "display_data"
    },
    {
     "data": {
      "image/png": "[encoded data removed]",
      "text/plain": [
       "<Figure size 360x360 with 1 Axes>"
      ]
     },
     "metadata": {
      "needs_background": "light"
     },
     "output_type": "display_data"
    }
   ],
   "source": [
    "#### Probability Distributions (PDFs) - Numerical Variables\n",
    "pdf_plot_cont(num_data) # calls pdf plot function"
   ]
  },
  {
   "cell_type": "markdown",
   "metadata": {},
   "source": [
    "All features are okay. Only population seems to be strongly skewed to the right, let's focus on this.\n",
    "\n",
    "This information is important because it supports the methods we use for:\n",
    "* Outliers Detection and Treatment"
   ]
  },
  {
   "cell_type": "markdown",
   "metadata": {},
   "source": [
    "#### Outliers Detection and Treatment & Inconsistencies\n",
    "\n",
    "Outliers can be found due to variation within the data (i.e., due to an unexpected large variance in a feature) or due to mistakes. Both cases can be dealt with. We started by looking at the probability distribution of those features and we noticed their skewness, which might indicated possible candidate features for outliers. We also looked at the summary statistics which also show unexpected values."
   ]
  },
  {
   "cell_type": "code",
   "execution_count": 59,
   "metadata": {},
   "outputs": [
    {
     "data": {
      "image/png": "[encoded data removed]",
      "text/plain": [
       "<Figure size 432x288 with 1 Axes>"
      ]
     },
     "metadata": {
      "needs_background": "light"
     },
     "output_type": "display_data"
    },
    {
     "data": {
      "image/png": "[encoded data removed]",
      "text/plain": [
       "<Figure size 432x288 with 1 Axes>"
      ]
     },
     "metadata": {
      "needs_background": "light"
     },
     "output_type": "display_data"
    },
    {
     "data": {
      "image/png": "[encoded data removed]",
      "text/plain": [
       "<Figure size 432x288 with 1 Axes>"
      ]
     },
     "metadata": {
      "needs_background": "light"
     },
     "output_type": "display_data"
    },
    {
     "data": {
      "image/png": "[encoded data removed]",
      "text/plain": [
       "<Figure size 432x288 with 1 Axes>"
      ]
     },
     "metadata": {
      "needs_background": "light"
     },
     "output_type": "display_data"
    },
    {
     "data": {
      "image/png": "[encoded data removed]",
      "text/plain": [
       "<Figure size 432x288 with 1 Axes>"
      ]
     },
     "metadata": {
      "needs_background": "light"
     },
     "output_type": "display_data"
    },
    {
     "data": {
      "image/png": "[encoded data removed]",
      "text/plain": [
       "<Figure size 432x288 with 1 Axes>"
      ]
     },
     "metadata": {
      "needs_background": "light"
     },
     "output_type": "display_data"
    }
   ],
   "source": [
    "# Boxplots (before treating for outliers) - Numerical Variables\n",
    "box_plot(num_data)"
   ]
  },
  {
   "cell_type": "markdown",
   "metadata": {},
   "source": [
    "As a simple rule, we will use the IQR method."
   ]
  },
  {
   "cell_type": "code",
   "execution_count": 60,
   "metadata": {},
   "outputs": [
    {
     "name": "stdout",
     "output_type": "stream",
     "text": [
      "column 1: population\n",
      "------------------------\n",
      "1st quantile =>  4105268.0\n",
      "3rd quantile =>  43733759.0\n",
      "IQR => 39628491.0\n",
      "lower_bound => -55337468.5\n",
      "upper_bound => 103176495.5\n",
      "\n",
      "------------------------\n"
     ]
    }
   ],
   "source": [
    "potential_outliers = ['population']\n",
    "# Calls the IQR Method\n",
    "iqr_method(potential_outliers, data)"
   ]
  },
  {
   "cell_type": "code",
   "execution_count": 61,
   "metadata": {},
   "outputs": [
    {
     "data": {
      "text/html": [
       "<div>\n",
       "<style scoped>\n",
       "    .dataframe tbody tr th:only-of-type {\n",
       "        vertical-align: middle;\n",
       "    }\n",
       "\n",
       "    .dataframe tbody tr th {\n",
       "        vertical-align: top;\n",
       "    }\n",
       "\n",
       "    .dataframe thead th {\n",
       "        text-align: right;\n",
       "    }\n",
       "</style>\n",
       "<table border=\"1\" class=\"dataframe\">\n",
       "  <thead>\n",
       "    <tr style=\"text-align: right;\">\n",
       "      <th></th>\n",
       "      <th>count</th>\n",
       "      <th>mean</th>\n",
       "      <th>std</th>\n",
       "      <th>min</th>\n",
       "      <th>25%</th>\n",
       "      <th>50%</th>\n",
       "      <th>75%</th>\n",
       "      <th>max</th>\n",
       "    </tr>\n",
       "  </thead>\n",
       "  <tbody>\n",
       "    <tr>\n",
       "      <th>new_cases</th>\n",
       "      <td>16364.0</td>\n",
       "      <td>1.959911e+02</td>\n",
       "      <td>6.697430e+02</td>\n",
       "      <td>-2461.000</td>\n",
       "      <td>0.000000e+00</td>\n",
       "      <td>5.000</td>\n",
       "      <td>7.100000e+01</td>\n",
       "      <td>1.153600e+04</td>\n",
       "    </tr>\n",
       "    <tr>\n",
       "      <th>new_deaths</th>\n",
       "      <td>16364.0</td>\n",
       "      <td>1.339012e+01</td>\n",
       "      <td>7.577402e+01</td>\n",
       "      <td>-1918.000</td>\n",
       "      <td>0.000000e+00</td>\n",
       "      <td>0.000</td>\n",
       "      <td>2.000000e+00</td>\n",
       "      <td>2.004000e+03</td>\n",
       "    </tr>\n",
       "    <tr>\n",
       "      <th>population</th>\n",
       "      <td>16364.0</td>\n",
       "      <td>1.962104e+07</td>\n",
       "      <td>2.358948e+07</td>\n",
       "      <td>97928.000</td>\n",
       "      <td>3.280815e+06</td>\n",
       "      <td>9660350.000</td>\n",
       "      <td>2.913681e+07</td>\n",
       "      <td>1.023344e+08</td>\n",
       "    </tr>\n",
       "    <tr>\n",
       "      <th>aged_65_older_percent</th>\n",
       "      <td>16364.0</td>\n",
       "      <td>1.021633e+01</td>\n",
       "      <td>6.478009e+00</td>\n",
       "      <td>1.144</td>\n",
       "      <td>4.412000e+00</td>\n",
       "      <td>8.153</td>\n",
       "      <td>1.656900e+01</td>\n",
       "      <td>2.302100e+01</td>\n",
       "    </tr>\n",
       "    <tr>\n",
       "      <th>gdp_per_capita</th>\n",
       "      <td>16364.0</td>\n",
       "      <td>2.401654e+04</td>\n",
       "      <td>2.179956e+04</td>\n",
       "      <td>661.240</td>\n",
       "      <td>7.675485e+03</td>\n",
       "      <td>16745.022</td>\n",
       "      <td>3.593837e+04</td>\n",
       "      <td>1.169356e+05</td>\n",
       "    </tr>\n",
       "    <tr>\n",
       "      <th>hospital_beds_per_thousand</th>\n",
       "      <td>16364.0</td>\n",
       "      <td>3.120509e+00</td>\n",
       "      <td>2.276377e+00</td>\n",
       "      <td>0.100</td>\n",
       "      <td>1.500000e+00</td>\n",
       "      <td>2.600</td>\n",
       "      <td>4.210000e+00</td>\n",
       "      <td>1.227000e+01</td>\n",
       "    </tr>\n",
       "  </tbody>\n",
       "</table>\n",
       "</div>"
      ],
      "text/plain": [
       "                              count          mean           std        min  \\\n",
       "new_cases                   16364.0  1.959911e+02  6.697430e+02  -2461.000   \n",
       "new_deaths                  16364.0  1.339012e+01  7.577402e+01  -1918.000   \n",
       "population                  16364.0  1.962104e+07  2.358948e+07  97928.000   \n",
       "aged_65_older_percent       16364.0  1.021633e+01  6.478009e+00      1.144   \n",
       "gdp_per_capita              16364.0  2.401654e+04  2.179956e+04    661.240   \n",
       "hospital_beds_per_thousand  16364.0  3.120509e+00  2.276377e+00      0.100   \n",
       "\n",
       "                                     25%          50%           75%  \\\n",
       "new_cases                   0.000000e+00        5.000  7.100000e+01   \n",
       "new_deaths                  0.000000e+00        0.000  2.000000e+00   \n",
       "population                  3.280815e+06  9660350.000  2.913681e+07   \n",
       "aged_65_older_percent       4.412000e+00        8.153  1.656900e+01   \n",
       "gdp_per_capita              7.675485e+03    16745.022  3.593837e+04   \n",
       "hospital_beds_per_thousand  1.500000e+00        2.600  4.210000e+00   \n",
       "\n",
       "                                     max  \n",
       "new_cases                   1.153600e+04  \n",
       "new_deaths                  2.004000e+03  \n",
       "population                  1.023344e+08  \n",
       "aged_65_older_percent       2.302100e+01  \n",
       "gdp_per_capita              1.169356e+05  \n",
       "hospital_beds_per_thousand  1.227000e+01  "
      ]
     },
     "execution_count": 61,
     "metadata": {},
     "output_type": "execute_result"
    }
   ],
   "source": [
    "# Drop missing values\n",
    "data.dropna(inplace = True)\n",
    "\n",
    "# Save New Numeric Dataset without outliers as Missing Values\n",
    "new_num_data = save_num_data(data, num_cols) # calls save_num_data function and stores output\n",
    "\n",
    "# Summary Statistics - New Numerical Variables without outliers\n",
    "new_num_data.describe().T"
   ]
  },
  {
   "cell_type": "code",
   "execution_count": 62,
   "metadata": {},
   "outputs": [
    {
     "data": {
      "image/png": "[encoded data removed]",
      "text/plain": [
       "<Figure size 432x288 with 1 Axes>"
      ]
     },
     "metadata": {
      "needs_background": "light"
     },
     "output_type": "display_data"
    },
    {
     "data": {
      "image/png": "[encoded data removed]",
      "text/plain": [
       "<Figure size 432x288 with 1 Axes>"
      ]
     },
     "metadata": {
      "needs_background": "light"
     },
     "output_type": "display_data"
    },
    {
     "data": {
      "image/png": "[encoded data removed]",
      "text/plain": [
       "<Figure size 432x288 with 1 Axes>"
      ]
     },
     "metadata": {
      "needs_background": "light"
     },
     "output_type": "display_data"
    },
    {
     "data": {
      "image/png": "[encoded data removed]",
      "text/plain": [
       "<Figure size 432x288 with 1 Axes>"
      ]
     },
     "metadata": {
      "needs_background": "light"
     },
     "output_type": "display_data"
    },
    {
     "data": {
      "image/png": "[encoded data removed]",
      "text/plain": [
       "<Figure size 432x288 with 1 Axes>"
      ]
     },
     "metadata": {
      "needs_background": "light"
     },
     "output_type": "display_data"
    },
    {
     "data": {
      "image/png": "[encoded data removed]",
      "text/plain": [
       "<Figure size 432x288 with 1 Axes>"
      ]
     },
     "metadata": {
      "needs_background": "light"
     },
     "output_type": "display_data"
    }
   ],
   "source": [
    "# Boxplots (after treating for outliers) - Numerical Variables\n",
    "box_plot(new_num_data)"
   ]
  },
  {
   "cell_type": "code",
   "execution_count": 63,
   "metadata": {},
   "outputs": [
    {
     "name": "stdout",
     "output_type": "stream",
     "text": [
      "Checking for missing values in the Cardio Base Dataset - Numerical Variables\n",
      "------------------------------------------------------------\n",
      "new_cases                     0\n",
      "new_deaths                    0\n",
      "population                    0\n",
      "aged_65_older_percent         0\n",
      "gdp_per_capita                0\n",
      "hospital_beds_per_thousand    0\n",
      "dtype: int64\n",
      "------------------------------------------------------------\n"
     ]
    }
   ],
   "source": [
    "# Check for missing values (after treating for outliers) - Numeric Variables\n",
    "missing_values(new_num_data) # calls missing values function"
   ]
  }
 ],
 "metadata": {
  "interpreter": {
   "hash": "ac7dd041828cf56631353191c608ccde6a0be02c5ac588a2993150c1410b91d4"
  },
  "kernelspec": {
   "display_name": "Python 3.9.7 ('base')",
   "language": "python",
   "name": "python3"
  },
  "language_info": {
   "codemirror_mode": {
    "name": "ipython",
    "version": 3
   },
   "file_extension": ".py",
   "mimetype": "text/x-python",
   "name": "python",
   "nbconvert_exporter": "python",
   "pygments_lexer": "ipython3",
   "version": "3.9.7"
  },
  "orig_nbformat": 4
 },
 "nbformat": 4,
 "nbformat_minor": 2
}
