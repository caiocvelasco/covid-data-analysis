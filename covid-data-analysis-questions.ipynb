{
 "cells": [
  {
   "cell_type": "markdown",
   "metadata": {},
   "source": [
    "## Covid Data Analysis - Questionnaire"
   ]
  },
  {
   "cell_type": "markdown",
   "metadata": {},
   "source": [
    "Second Dataset, Covid19 cases. This dataset contains daily covidl9 cases for all countries in the world. \n",
    "\n",
    "Each row represents a calendar day. \n",
    "\n",
    "The rows also contain some simple information about the countries, like population, percentage of the population over 65, GDP and hospital beds per thousand inhabitants. \n",
    "\n",
    "Please use this dataset to answer the following questions.\n",
    "\n",
    "9) When did the difference in the total number of confirmed cases between Italy and Germany become more than 10 000?\n",
    "\n",
    "10) Look at the cumulative number of confirmed cases in Italy between 2020-02-28 and 2020-03-20. Fit an exponential function (y = Ae^(Bx)) to this set to express cumulative cases as a function of days passed, by minimizing squared loss. What is the difference between the exponential curve and the total number of real cases on 2020-03-20?\n",
    "\n",
    "11) Which country has the 3rd highest death rate? Death rate: total number of death per million inhabitants\n",
    "\n",
    "12) What is the F1 score of the following statement: Countries, where more than 20% of the population is over 65 years old, have death rates over 50 per million inhabitants. Ignore countries, where any of the necessary information is missing!\n",
    "\n",
    "13) What is the probability that a country has GDP over $10 000, if we know that they have at least 5 hospital beds per 1000 inhabitants.\n"
   ]
  }
 ],
 "metadata": {
  "language_info": {
   "name": "python"
  },
  "orig_nbformat": 4
 },
 "nbformat": 4,
 "nbformat_minor": 2
}
